{
 "cells": [
  {
   "cell_type": "markdown",
   "id": "4bf53df2-4c0d-4b99-9b87-81b4a5365898",
   "metadata": {
    "tags": []
   },
   "source": [
    "## 1. Preprocessing "
   ]
  },
  {
   "cell_type": "markdown",
   "id": "eb467832-0942-45bc-9211-8d5eaa65054c",
   "metadata": {},
   "source": [
    "### 1.1 Importing"
   ]
  },
  {
   "cell_type": "code",
   "execution_count": 1,
   "id": "e56c8da0-85eb-4ec0-870d-7645e8355a61",
   "metadata": {
    "tags": []
   },
   "outputs": [],
   "source": [
    "import pandas as pd\n",
    "from sklearn.model_selection import train_test_split\n",
    "from sklearn.impute import SimpleImputer\n",
    "from sklearn.tree import DecisionTreeClassifier\n",
    "from sklearn.metrics import accuracy_score\n",
    "from sklearn.pipeline import make_pipeline\n",
    "from sklearn.preprocessing import OneHotEncoder\n",
    "from sklearn.compose import ColumnTransformer"
   ]
  },
  {
   "cell_type": "markdown",
   "id": "edadb04d-5a8e-45e4-80d5-34e1d91ea534",
   "metadata": {},
   "source": [
    "### 1.2 Reading data"
   ]
  },
  {
   "cell_type": "code",
   "execution_count": 2,
   "id": "2ccf28df-cb57-4c71-ad12-4a5e4073b3a5",
   "metadata": {
    "tags": []
   },
   "outputs": [
    {
     "data": {
      "text/html": [
       "<div>\n",
       "<style scoped>\n",
       "    .dataframe tbody tr th:only-of-type {\n",
       "        vertical-align: middle;\n",
       "    }\n",
       "\n",
       "    .dataframe tbody tr th {\n",
       "        vertical-align: top;\n",
       "    }\n",
       "\n",
       "    .dataframe thead th {\n",
       "        text-align: right;\n",
       "    }\n",
       "</style>\n",
       "<table border=\"1\" class=\"dataframe\">\n",
       "  <thead>\n",
       "    <tr style=\"text-align: right;\">\n",
       "      <th></th>\n",
       "      <th>LotArea</th>\n",
       "      <th>LotFrontage</th>\n",
       "      <th>TotalBsmtSF</th>\n",
       "      <th>BedroomAbvGr</th>\n",
       "      <th>Fireplaces</th>\n",
       "      <th>PoolArea</th>\n",
       "      <th>GarageCars</th>\n",
       "      <th>WoodDeckSF</th>\n",
       "      <th>ScreenPorch</th>\n",
       "      <th>Expensive</th>\n",
       "      <th>...</th>\n",
       "      <th>GarageType</th>\n",
       "      <th>GarageFinish</th>\n",
       "      <th>GarageQual</th>\n",
       "      <th>GarageCond</th>\n",
       "      <th>PavedDrive</th>\n",
       "      <th>PoolQC</th>\n",
       "      <th>Fence</th>\n",
       "      <th>MiscFeature</th>\n",
       "      <th>SaleType</th>\n",
       "      <th>SaleCondition</th>\n",
       "    </tr>\n",
       "  </thead>\n",
       "  <tbody>\n",
       "    <tr>\n",
       "      <th>0</th>\n",
       "      <td>8450</td>\n",
       "      <td>65.0</td>\n",
       "      <td>856</td>\n",
       "      <td>3</td>\n",
       "      <td>0</td>\n",
       "      <td>0</td>\n",
       "      <td>2</td>\n",
       "      <td>0</td>\n",
       "      <td>0</td>\n",
       "      <td>0</td>\n",
       "      <td>...</td>\n",
       "      <td>Attchd</td>\n",
       "      <td>RFn</td>\n",
       "      <td>TA</td>\n",
       "      <td>TA</td>\n",
       "      <td>Y</td>\n",
       "      <td>NaN</td>\n",
       "      <td>NaN</td>\n",
       "      <td>NaN</td>\n",
       "      <td>WD</td>\n",
       "      <td>Normal</td>\n",
       "    </tr>\n",
       "    <tr>\n",
       "      <th>1</th>\n",
       "      <td>9600</td>\n",
       "      <td>80.0</td>\n",
       "      <td>1262</td>\n",
       "      <td>3</td>\n",
       "      <td>1</td>\n",
       "      <td>0</td>\n",
       "      <td>2</td>\n",
       "      <td>298</td>\n",
       "      <td>0</td>\n",
       "      <td>0</td>\n",
       "      <td>...</td>\n",
       "      <td>Attchd</td>\n",
       "      <td>RFn</td>\n",
       "      <td>TA</td>\n",
       "      <td>TA</td>\n",
       "      <td>Y</td>\n",
       "      <td>NaN</td>\n",
       "      <td>NaN</td>\n",
       "      <td>NaN</td>\n",
       "      <td>WD</td>\n",
       "      <td>Normal</td>\n",
       "    </tr>\n",
       "    <tr>\n",
       "      <th>2</th>\n",
       "      <td>11250</td>\n",
       "      <td>68.0</td>\n",
       "      <td>920</td>\n",
       "      <td>3</td>\n",
       "      <td>1</td>\n",
       "      <td>0</td>\n",
       "      <td>2</td>\n",
       "      <td>0</td>\n",
       "      <td>0</td>\n",
       "      <td>0</td>\n",
       "      <td>...</td>\n",
       "      <td>Attchd</td>\n",
       "      <td>RFn</td>\n",
       "      <td>TA</td>\n",
       "      <td>TA</td>\n",
       "      <td>Y</td>\n",
       "      <td>NaN</td>\n",
       "      <td>NaN</td>\n",
       "      <td>NaN</td>\n",
       "      <td>WD</td>\n",
       "      <td>Normal</td>\n",
       "    </tr>\n",
       "    <tr>\n",
       "      <th>3</th>\n",
       "      <td>9550</td>\n",
       "      <td>60.0</td>\n",
       "      <td>756</td>\n",
       "      <td>3</td>\n",
       "      <td>1</td>\n",
       "      <td>0</td>\n",
       "      <td>3</td>\n",
       "      <td>0</td>\n",
       "      <td>0</td>\n",
       "      <td>0</td>\n",
       "      <td>...</td>\n",
       "      <td>Detchd</td>\n",
       "      <td>Unf</td>\n",
       "      <td>TA</td>\n",
       "      <td>TA</td>\n",
       "      <td>Y</td>\n",
       "      <td>NaN</td>\n",
       "      <td>NaN</td>\n",
       "      <td>NaN</td>\n",
       "      <td>WD</td>\n",
       "      <td>Abnorml</td>\n",
       "    </tr>\n",
       "    <tr>\n",
       "      <th>4</th>\n",
       "      <td>14260</td>\n",
       "      <td>84.0</td>\n",
       "      <td>1145</td>\n",
       "      <td>4</td>\n",
       "      <td>1</td>\n",
       "      <td>0</td>\n",
       "      <td>3</td>\n",
       "      <td>192</td>\n",
       "      <td>0</td>\n",
       "      <td>0</td>\n",
       "      <td>...</td>\n",
       "      <td>Attchd</td>\n",
       "      <td>RFn</td>\n",
       "      <td>TA</td>\n",
       "      <td>TA</td>\n",
       "      <td>Y</td>\n",
       "      <td>NaN</td>\n",
       "      <td>NaN</td>\n",
       "      <td>NaN</td>\n",
       "      <td>WD</td>\n",
       "      <td>Normal</td>\n",
       "    </tr>\n",
       "    <tr>\n",
       "      <th>...</th>\n",
       "      <td>...</td>\n",
       "      <td>...</td>\n",
       "      <td>...</td>\n",
       "      <td>...</td>\n",
       "      <td>...</td>\n",
       "      <td>...</td>\n",
       "      <td>...</td>\n",
       "      <td>...</td>\n",
       "      <td>...</td>\n",
       "      <td>...</td>\n",
       "      <td>...</td>\n",
       "      <td>...</td>\n",
       "      <td>...</td>\n",
       "      <td>...</td>\n",
       "      <td>...</td>\n",
       "      <td>...</td>\n",
       "      <td>...</td>\n",
       "      <td>...</td>\n",
       "      <td>...</td>\n",
       "      <td>...</td>\n",
       "      <td>...</td>\n",
       "    </tr>\n",
       "    <tr>\n",
       "      <th>1455</th>\n",
       "      <td>7917</td>\n",
       "      <td>62.0</td>\n",
       "      <td>953</td>\n",
       "      <td>3</td>\n",
       "      <td>1</td>\n",
       "      <td>0</td>\n",
       "      <td>2</td>\n",
       "      <td>0</td>\n",
       "      <td>0</td>\n",
       "      <td>0</td>\n",
       "      <td>...</td>\n",
       "      <td>Attchd</td>\n",
       "      <td>RFn</td>\n",
       "      <td>TA</td>\n",
       "      <td>TA</td>\n",
       "      <td>Y</td>\n",
       "      <td>NaN</td>\n",
       "      <td>NaN</td>\n",
       "      <td>NaN</td>\n",
       "      <td>WD</td>\n",
       "      <td>Normal</td>\n",
       "    </tr>\n",
       "    <tr>\n",
       "      <th>1456</th>\n",
       "      <td>13175</td>\n",
       "      <td>85.0</td>\n",
       "      <td>1542</td>\n",
       "      <td>3</td>\n",
       "      <td>2</td>\n",
       "      <td>0</td>\n",
       "      <td>2</td>\n",
       "      <td>349</td>\n",
       "      <td>0</td>\n",
       "      <td>0</td>\n",
       "      <td>...</td>\n",
       "      <td>Attchd</td>\n",
       "      <td>Unf</td>\n",
       "      <td>TA</td>\n",
       "      <td>TA</td>\n",
       "      <td>Y</td>\n",
       "      <td>NaN</td>\n",
       "      <td>MnPrv</td>\n",
       "      <td>NaN</td>\n",
       "      <td>WD</td>\n",
       "      <td>Normal</td>\n",
       "    </tr>\n",
       "    <tr>\n",
       "      <th>1457</th>\n",
       "      <td>9042</td>\n",
       "      <td>66.0</td>\n",
       "      <td>1152</td>\n",
       "      <td>4</td>\n",
       "      <td>2</td>\n",
       "      <td>0</td>\n",
       "      <td>1</td>\n",
       "      <td>0</td>\n",
       "      <td>0</td>\n",
       "      <td>1</td>\n",
       "      <td>...</td>\n",
       "      <td>Attchd</td>\n",
       "      <td>RFn</td>\n",
       "      <td>TA</td>\n",
       "      <td>TA</td>\n",
       "      <td>Y</td>\n",
       "      <td>NaN</td>\n",
       "      <td>GdPrv</td>\n",
       "      <td>Shed</td>\n",
       "      <td>WD</td>\n",
       "      <td>Normal</td>\n",
       "    </tr>\n",
       "    <tr>\n",
       "      <th>1458</th>\n",
       "      <td>9717</td>\n",
       "      <td>68.0</td>\n",
       "      <td>1078</td>\n",
       "      <td>2</td>\n",
       "      <td>0</td>\n",
       "      <td>0</td>\n",
       "      <td>1</td>\n",
       "      <td>366</td>\n",
       "      <td>0</td>\n",
       "      <td>0</td>\n",
       "      <td>...</td>\n",
       "      <td>Attchd</td>\n",
       "      <td>Unf</td>\n",
       "      <td>TA</td>\n",
       "      <td>TA</td>\n",
       "      <td>Y</td>\n",
       "      <td>NaN</td>\n",
       "      <td>NaN</td>\n",
       "      <td>NaN</td>\n",
       "      <td>WD</td>\n",
       "      <td>Normal</td>\n",
       "    </tr>\n",
       "    <tr>\n",
       "      <th>1459</th>\n",
       "      <td>9937</td>\n",
       "      <td>75.0</td>\n",
       "      <td>1256</td>\n",
       "      <td>3</td>\n",
       "      <td>0</td>\n",
       "      <td>0</td>\n",
       "      <td>1</td>\n",
       "      <td>736</td>\n",
       "      <td>0</td>\n",
       "      <td>0</td>\n",
       "      <td>...</td>\n",
       "      <td>Attchd</td>\n",
       "      <td>Fin</td>\n",
       "      <td>TA</td>\n",
       "      <td>TA</td>\n",
       "      <td>Y</td>\n",
       "      <td>NaN</td>\n",
       "      <td>NaN</td>\n",
       "      <td>NaN</td>\n",
       "      <td>WD</td>\n",
       "      <td>Normal</td>\n",
       "    </tr>\n",
       "  </tbody>\n",
       "</table>\n",
       "<p>1460 rows × 81 columns</p>\n",
       "</div>"
      ],
      "text/plain": [
       "      LotArea  LotFrontage  TotalBsmtSF  BedroomAbvGr  Fireplaces  PoolArea  \\\n",
       "0        8450         65.0          856             3           0         0   \n",
       "1        9600         80.0         1262             3           1         0   \n",
       "2       11250         68.0          920             3           1         0   \n",
       "3        9550         60.0          756             3           1         0   \n",
       "4       14260         84.0         1145             4           1         0   \n",
       "...       ...          ...          ...           ...         ...       ...   \n",
       "1455     7917         62.0          953             3           1         0   \n",
       "1456    13175         85.0         1542             3           2         0   \n",
       "1457     9042         66.0         1152             4           2         0   \n",
       "1458     9717         68.0         1078             2           0         0   \n",
       "1459     9937         75.0         1256             3           0         0   \n",
       "\n",
       "      GarageCars  WoodDeckSF  ScreenPorch  Expensive  ... GarageType  \\\n",
       "0              2           0            0          0  ...     Attchd   \n",
       "1              2         298            0          0  ...     Attchd   \n",
       "2              2           0            0          0  ...     Attchd   \n",
       "3              3           0            0          0  ...     Detchd   \n",
       "4              3         192            0          0  ...     Attchd   \n",
       "...          ...         ...          ...        ...  ...        ...   \n",
       "1455           2           0            0          0  ...     Attchd   \n",
       "1456           2         349            0          0  ...     Attchd   \n",
       "1457           1           0            0          1  ...     Attchd   \n",
       "1458           1         366            0          0  ...     Attchd   \n",
       "1459           1         736            0          0  ...     Attchd   \n",
       "\n",
       "     GarageFinish GarageQual GarageCond PavedDrive PoolQC  Fence MiscFeature  \\\n",
       "0             RFn         TA         TA          Y    NaN    NaN         NaN   \n",
       "1             RFn         TA         TA          Y    NaN    NaN         NaN   \n",
       "2             RFn         TA         TA          Y    NaN    NaN         NaN   \n",
       "3             Unf         TA         TA          Y    NaN    NaN         NaN   \n",
       "4             RFn         TA         TA          Y    NaN    NaN         NaN   \n",
       "...           ...        ...        ...        ...    ...    ...         ...   \n",
       "1455          RFn         TA         TA          Y    NaN    NaN         NaN   \n",
       "1456          Unf         TA         TA          Y    NaN  MnPrv         NaN   \n",
       "1457          RFn         TA         TA          Y    NaN  GdPrv        Shed   \n",
       "1458          Unf         TA         TA          Y    NaN    NaN         NaN   \n",
       "1459          Fin         TA         TA          Y    NaN    NaN         NaN   \n",
       "\n",
       "     SaleType SaleCondition  \n",
       "0          WD        Normal  \n",
       "1          WD        Normal  \n",
       "2          WD        Normal  \n",
       "3          WD       Abnorml  \n",
       "4          WD        Normal  \n",
       "...       ...           ...  \n",
       "1455       WD        Normal  \n",
       "1456       WD        Normal  \n",
       "1457       WD        Normal  \n",
       "1458       WD        Normal  \n",
       "1459       WD        Normal  \n",
       "\n",
       "[1460 rows x 81 columns]"
      ]
     },
     "execution_count": 2,
     "metadata": {},
     "output_type": "execute_result"
    }
   ],
   "source": [
    "url = \"https://drive.google.com/file/d/1a4DUEaAP5YRAE3CJ1oJz3Sg21BcrMBEq/view?usp=share_link\"\n",
    "path = 'https://drive.google.com/uc?export=download&id='+url.split('/')[-2]\n",
    "data = df = pd.read_csv(path)\n",
    "data"
   ]
  },
  {
   "cell_type": "code",
   "execution_count": 3,
   "id": "32928e3e-78cc-4c94-a3e8-aa8c710ea567",
   "metadata": {
    "tags": []
   },
   "outputs": [
    {
     "data": {
      "text/plain": [
       "Index(['LotArea', 'LotFrontage', 'TotalBsmtSF', 'BedroomAbvGr', 'Fireplaces',\n",
       "       'PoolArea', 'GarageCars', 'WoodDeckSF', 'ScreenPorch', 'Expensive',\n",
       "       'MSZoning', 'Condition1', 'Heating', 'Street', 'CentralAir',\n",
       "       'Foundation', 'ExterQual', 'ExterCond', 'BsmtQual', 'BsmtCond',\n",
       "       'BsmtExposure', 'BsmtFinType1', 'KitchenQual', 'FireplaceQu',\n",
       "       'MSSubClass', 'OverallQual', 'OverallCond', 'YearBuilt', 'YearRemodAdd',\n",
       "       'MasVnrArea', 'BsmtFinSF1', 'BsmtFinSF2', 'BsmtUnfSF', '1stFlrSF',\n",
       "       '2ndFlrSF', 'LowQualFinSF', 'GrLivArea', 'BsmtFullBath', 'BsmtHalfBath',\n",
       "       'FullBath', 'HalfBath', 'KitchenAbvGr', 'TotRmsAbvGrd', 'GarageYrBlt',\n",
       "       'GarageArea', 'OpenPorchSF', 'EnclosedPorch', '3SsnPorch', 'MiscVal',\n",
       "       'MoSold', 'YrSold', 'Id', 'Alley', 'LotShape', 'LandContour',\n",
       "       'Utilities', 'LotConfig', 'LandSlope', 'Neighborhood', 'Condition2',\n",
       "       'BldgType', 'HouseStyle', 'RoofStyle', 'RoofMatl', 'Exterior1st',\n",
       "       'Exterior2nd', 'MasVnrType', 'BsmtFinType2', 'HeatingQC', 'Electrical',\n",
       "       'Functional', 'GarageType', 'GarageFinish', 'GarageQual', 'GarageCond',\n",
       "       'PavedDrive', 'PoolQC', 'Fence', 'MiscFeature', 'SaleType',\n",
       "       'SaleCondition'],\n",
       "      dtype='object')"
      ]
     },
     "execution_count": 3,
     "metadata": {},
     "output_type": "execute_result"
    }
   ],
   "source": [
    "data.columns"
   ]
  },
  {
   "cell_type": "code",
   "execution_count": 4,
   "id": "15938194-82fe-4d39-a899-77fbdab7fb30",
   "metadata": {
    "tags": []
   },
   "outputs": [
    {
     "data": {
      "text/html": [
       "<div>\n",
       "<style scoped>\n",
       "    .dataframe tbody tr th:only-of-type {\n",
       "        vertical-align: middle;\n",
       "    }\n",
       "\n",
       "    .dataframe tbody tr th {\n",
       "        vertical-align: top;\n",
       "    }\n",
       "\n",
       "    .dataframe thead th {\n",
       "        text-align: right;\n",
       "    }\n",
       "</style>\n",
       "<table border=\"1\" class=\"dataframe\">\n",
       "  <thead>\n",
       "    <tr style=\"text-align: right;\">\n",
       "      <th></th>\n",
       "      <th>LotArea</th>\n",
       "      <th>LotFrontage</th>\n",
       "      <th>TotalBsmtSF</th>\n",
       "      <th>BedroomAbvGr</th>\n",
       "      <th>Fireplaces</th>\n",
       "      <th>PoolArea</th>\n",
       "      <th>GarageCars</th>\n",
       "      <th>WoodDeckSF</th>\n",
       "      <th>ScreenPorch</th>\n",
       "      <th>Expensive</th>\n",
       "      <th>...</th>\n",
       "      <th>GarageType</th>\n",
       "      <th>GarageFinish</th>\n",
       "      <th>GarageQual</th>\n",
       "      <th>GarageCond</th>\n",
       "      <th>PavedDrive</th>\n",
       "      <th>PoolQC</th>\n",
       "      <th>Fence</th>\n",
       "      <th>MiscFeature</th>\n",
       "      <th>SaleType</th>\n",
       "      <th>SaleCondition</th>\n",
       "    </tr>\n",
       "  </thead>\n",
       "  <tbody>\n",
       "    <tr>\n",
       "      <th>529</th>\n",
       "      <td>32668</td>\n",
       "      <td>NaN</td>\n",
       "      <td>2035</td>\n",
       "      <td>4</td>\n",
       "      <td>2</td>\n",
       "      <td>0</td>\n",
       "      <td>2</td>\n",
       "      <td>0</td>\n",
       "      <td>0</td>\n",
       "      <td>0</td>\n",
       "      <td>...</td>\n",
       "      <td>Attchd</td>\n",
       "      <td>RFn</td>\n",
       "      <td>TA</td>\n",
       "      <td>TA</td>\n",
       "      <td>Y</td>\n",
       "      <td>NaN</td>\n",
       "      <td>NaN</td>\n",
       "      <td>NaN</td>\n",
       "      <td>WD</td>\n",
       "      <td>Alloca</td>\n",
       "    </tr>\n",
       "    <tr>\n",
       "      <th>414</th>\n",
       "      <td>11228</td>\n",
       "      <td>59.0</td>\n",
       "      <td>1080</td>\n",
       "      <td>3</td>\n",
       "      <td>1</td>\n",
       "      <td>0</td>\n",
       "      <td>3</td>\n",
       "      <td>196</td>\n",
       "      <td>0</td>\n",
       "      <td>0</td>\n",
       "      <td>...</td>\n",
       "      <td>Attchd</td>\n",
       "      <td>Unf</td>\n",
       "      <td>TA</td>\n",
       "      <td>TA</td>\n",
       "      <td>Y</td>\n",
       "      <td>NaN</td>\n",
       "      <td>NaN</td>\n",
       "      <td>NaN</td>\n",
       "      <td>WD</td>\n",
       "      <td>Normal</td>\n",
       "    </tr>\n",
       "    <tr>\n",
       "      <th>462</th>\n",
       "      <td>8281</td>\n",
       "      <td>60.0</td>\n",
       "      <td>864</td>\n",
       "      <td>3</td>\n",
       "      <td>1</td>\n",
       "      <td>0</td>\n",
       "      <td>1</td>\n",
       "      <td>0</td>\n",
       "      <td>0</td>\n",
       "      <td>0</td>\n",
       "      <td>...</td>\n",
       "      <td>Detchd</td>\n",
       "      <td>Unf</td>\n",
       "      <td>TA</td>\n",
       "      <td>TA</td>\n",
       "      <td>Y</td>\n",
       "      <td>NaN</td>\n",
       "      <td>GdWo</td>\n",
       "      <td>NaN</td>\n",
       "      <td>WD</td>\n",
       "      <td>Normal</td>\n",
       "    </tr>\n",
       "    <tr>\n",
       "      <th>1184</th>\n",
       "      <td>35133</td>\n",
       "      <td>50.0</td>\n",
       "      <td>1572</td>\n",
       "      <td>3</td>\n",
       "      <td>2</td>\n",
       "      <td>0</td>\n",
       "      <td>3</td>\n",
       "      <td>0</td>\n",
       "      <td>263</td>\n",
       "      <td>0</td>\n",
       "      <td>...</td>\n",
       "      <td>2Types</td>\n",
       "      <td>RFn</td>\n",
       "      <td>TA</td>\n",
       "      <td>TA</td>\n",
       "      <td>Y</td>\n",
       "      <td>NaN</td>\n",
       "      <td>NaN</td>\n",
       "      <td>NaN</td>\n",
       "      <td>WD</td>\n",
       "      <td>Normal</td>\n",
       "    </tr>\n",
       "    <tr>\n",
       "      <th>779</th>\n",
       "      <td>10530</td>\n",
       "      <td>78.0</td>\n",
       "      <td>975</td>\n",
       "      <td>2</td>\n",
       "      <td>0</td>\n",
       "      <td>0</td>\n",
       "      <td>2</td>\n",
       "      <td>0</td>\n",
       "      <td>0</td>\n",
       "      <td>0</td>\n",
       "      <td>...</td>\n",
       "      <td>Attchd</td>\n",
       "      <td>Unf</td>\n",
       "      <td>TA</td>\n",
       "      <td>TA</td>\n",
       "      <td>Y</td>\n",
       "      <td>NaN</td>\n",
       "      <td>NaN</td>\n",
       "      <td>NaN</td>\n",
       "      <td>WD</td>\n",
       "      <td>Normal</td>\n",
       "    </tr>\n",
       "    <tr>\n",
       "      <th>1213</th>\n",
       "      <td>10246</td>\n",
       "      <td>NaN</td>\n",
       "      <td>648</td>\n",
       "      <td>0</td>\n",
       "      <td>0</td>\n",
       "      <td>0</td>\n",
       "      <td>1</td>\n",
       "      <td>88</td>\n",
       "      <td>0</td>\n",
       "      <td>0</td>\n",
       "      <td>...</td>\n",
       "      <td>Attchd</td>\n",
       "      <td>Unf</td>\n",
       "      <td>TA</td>\n",
       "      <td>TA</td>\n",
       "      <td>Y</td>\n",
       "      <td>NaN</td>\n",
       "      <td>NaN</td>\n",
       "      <td>NaN</td>\n",
       "      <td>WD</td>\n",
       "      <td>Normal</td>\n",
       "    </tr>\n",
       "    <tr>\n",
       "      <th>707</th>\n",
       "      <td>6240</td>\n",
       "      <td>48.0</td>\n",
       "      <td>1324</td>\n",
       "      <td>2</td>\n",
       "      <td>1</td>\n",
       "      <td>0</td>\n",
       "      <td>2</td>\n",
       "      <td>192</td>\n",
       "      <td>0</td>\n",
       "      <td>1</td>\n",
       "      <td>...</td>\n",
       "      <td>Attchd</td>\n",
       "      <td>Fin</td>\n",
       "      <td>TA</td>\n",
       "      <td>TA</td>\n",
       "      <td>Y</td>\n",
       "      <td>NaN</td>\n",
       "      <td>NaN</td>\n",
       "      <td>NaN</td>\n",
       "      <td>WD</td>\n",
       "      <td>Normal</td>\n",
       "    </tr>\n",
       "    <tr>\n",
       "      <th>320</th>\n",
       "      <td>16259</td>\n",
       "      <td>111.0</td>\n",
       "      <td>1249</td>\n",
       "      <td>4</td>\n",
       "      <td>0</td>\n",
       "      <td>0</td>\n",
       "      <td>3</td>\n",
       "      <td>240</td>\n",
       "      <td>0</td>\n",
       "      <td>1</td>\n",
       "      <td>...</td>\n",
       "      <td>Attchd</td>\n",
       "      <td>RFn</td>\n",
       "      <td>TA</td>\n",
       "      <td>TA</td>\n",
       "      <td>Y</td>\n",
       "      <td>NaN</td>\n",
       "      <td>NaN</td>\n",
       "      <td>NaN</td>\n",
       "      <td>New</td>\n",
       "      <td>Partial</td>\n",
       "    </tr>\n",
       "    <tr>\n",
       "      <th>643</th>\n",
       "      <td>10793</td>\n",
       "      <td>80.0</td>\n",
       "      <td>780</td>\n",
       "      <td>4</td>\n",
       "      <td>0</td>\n",
       "      <td>0</td>\n",
       "      <td>2</td>\n",
       "      <td>208</td>\n",
       "      <td>0</td>\n",
       "      <td>0</td>\n",
       "      <td>...</td>\n",
       "      <td>Attchd</td>\n",
       "      <td>Fin</td>\n",
       "      <td>TA</td>\n",
       "      <td>TA</td>\n",
       "      <td>Y</td>\n",
       "      <td>NaN</td>\n",
       "      <td>GdWo</td>\n",
       "      <td>NaN</td>\n",
       "      <td>WD</td>\n",
       "      <td>Normal</td>\n",
       "    </tr>\n",
       "    <tr>\n",
       "      <th>611</th>\n",
       "      <td>10395</td>\n",
       "      <td>NaN</td>\n",
       "      <td>1032</td>\n",
       "      <td>3</td>\n",
       "      <td>1</td>\n",
       "      <td>0</td>\n",
       "      <td>2</td>\n",
       "      <td>0</td>\n",
       "      <td>0</td>\n",
       "      <td>0</td>\n",
       "      <td>...</td>\n",
       "      <td>Attchd</td>\n",
       "      <td>Unf</td>\n",
       "      <td>TA</td>\n",
       "      <td>TA</td>\n",
       "      <td>Y</td>\n",
       "      <td>NaN</td>\n",
       "      <td>MnPrv</td>\n",
       "      <td>Shed</td>\n",
       "      <td>WD</td>\n",
       "      <td>Normal</td>\n",
       "    </tr>\n",
       "    <tr>\n",
       "      <th>344</th>\n",
       "      <td>2592</td>\n",
       "      <td>36.0</td>\n",
       "      <td>536</td>\n",
       "      <td>3</td>\n",
       "      <td>0</td>\n",
       "      <td>0</td>\n",
       "      <td>1</td>\n",
       "      <td>182</td>\n",
       "      <td>0</td>\n",
       "      <td>0</td>\n",
       "      <td>...</td>\n",
       "      <td>Attchd</td>\n",
       "      <td>Unf</td>\n",
       "      <td>TA</td>\n",
       "      <td>TA</td>\n",
       "      <td>Y</td>\n",
       "      <td>NaN</td>\n",
       "      <td>NaN</td>\n",
       "      <td>NaN</td>\n",
       "      <td>WD</td>\n",
       "      <td>Normal</td>\n",
       "    </tr>\n",
       "    <tr>\n",
       "      <th>717</th>\n",
       "      <td>10000</td>\n",
       "      <td>80.0</td>\n",
       "      <td>1176</td>\n",
       "      <td>3</td>\n",
       "      <td>1</td>\n",
       "      <td>0</td>\n",
       "      <td>2</td>\n",
       "      <td>224</td>\n",
       "      <td>0</td>\n",
       "      <td>0</td>\n",
       "      <td>...</td>\n",
       "      <td>Attchd</td>\n",
       "      <td>Unf</td>\n",
       "      <td>TA</td>\n",
       "      <td>TA</td>\n",
       "      <td>Y</td>\n",
       "      <td>NaN</td>\n",
       "      <td>MnPrv</td>\n",
       "      <td>NaN</td>\n",
       "      <td>WD</td>\n",
       "      <td>Normal</td>\n",
       "    </tr>\n",
       "    <tr>\n",
       "      <th>1120</th>\n",
       "      <td>8263</td>\n",
       "      <td>59.0</td>\n",
       "      <td>1012</td>\n",
       "      <td>2</td>\n",
       "      <td>1</td>\n",
       "      <td>0</td>\n",
       "      <td>1</td>\n",
       "      <td>0</td>\n",
       "      <td>0</td>\n",
       "      <td>0</td>\n",
       "      <td>...</td>\n",
       "      <td>Detchd</td>\n",
       "      <td>Unf</td>\n",
       "      <td>TA</td>\n",
       "      <td>TA</td>\n",
       "      <td>Y</td>\n",
       "      <td>NaN</td>\n",
       "      <td>MnPrv</td>\n",
       "      <td>NaN</td>\n",
       "      <td>WD</td>\n",
       "      <td>Normal</td>\n",
       "    </tr>\n",
       "    <tr>\n",
       "      <th>806</th>\n",
       "      <td>9750</td>\n",
       "      <td>75.0</td>\n",
       "      <td>980</td>\n",
       "      <td>3</td>\n",
       "      <td>0</td>\n",
       "      <td>0</td>\n",
       "      <td>1</td>\n",
       "      <td>68</td>\n",
       "      <td>0</td>\n",
       "      <td>0</td>\n",
       "      <td>...</td>\n",
       "      <td>Attchd</td>\n",
       "      <td>Fin</td>\n",
       "      <td>TA</td>\n",
       "      <td>TA</td>\n",
       "      <td>Y</td>\n",
       "      <td>NaN</td>\n",
       "      <td>NaN</td>\n",
       "      <td>NaN</td>\n",
       "      <td>WD</td>\n",
       "      <td>Normal</td>\n",
       "    </tr>\n",
       "    <tr>\n",
       "      <th>389</th>\n",
       "      <td>12474</td>\n",
       "      <td>96.0</td>\n",
       "      <td>1682</td>\n",
       "      <td>3</td>\n",
       "      <td>1</td>\n",
       "      <td>0</td>\n",
       "      <td>3</td>\n",
       "      <td>196</td>\n",
       "      <td>0</td>\n",
       "      <td>1</td>\n",
       "      <td>...</td>\n",
       "      <td>BuiltIn</td>\n",
       "      <td>Fin</td>\n",
       "      <td>TA</td>\n",
       "      <td>TA</td>\n",
       "      <td>Y</td>\n",
       "      <td>NaN</td>\n",
       "      <td>NaN</td>\n",
       "      <td>NaN</td>\n",
       "      <td>New</td>\n",
       "      <td>Partial</td>\n",
       "    </tr>\n",
       "  </tbody>\n",
       "</table>\n",
       "<p>15 rows × 81 columns</p>\n",
       "</div>"
      ],
      "text/plain": [
       "      LotArea  LotFrontage  TotalBsmtSF  BedroomAbvGr  Fireplaces  PoolArea  \\\n",
       "529     32668          NaN         2035             4           2         0   \n",
       "414     11228         59.0         1080             3           1         0   \n",
       "462      8281         60.0          864             3           1         0   \n",
       "1184    35133         50.0         1572             3           2         0   \n",
       "779     10530         78.0          975             2           0         0   \n",
       "1213    10246          NaN          648             0           0         0   \n",
       "707      6240         48.0         1324             2           1         0   \n",
       "320     16259        111.0         1249             4           0         0   \n",
       "643     10793         80.0          780             4           0         0   \n",
       "611     10395          NaN         1032             3           1         0   \n",
       "344      2592         36.0          536             3           0         0   \n",
       "717     10000         80.0         1176             3           1         0   \n",
       "1120     8263         59.0         1012             2           1         0   \n",
       "806      9750         75.0          980             3           0         0   \n",
       "389     12474         96.0         1682             3           1         0   \n",
       "\n",
       "      GarageCars  WoodDeckSF  ScreenPorch  Expensive  ... GarageType  \\\n",
       "529            2           0            0          0  ...     Attchd   \n",
       "414            3         196            0          0  ...     Attchd   \n",
       "462            1           0            0          0  ...     Detchd   \n",
       "1184           3           0          263          0  ...     2Types   \n",
       "779            2           0            0          0  ...     Attchd   \n",
       "1213           1          88            0          0  ...     Attchd   \n",
       "707            2         192            0          1  ...     Attchd   \n",
       "320            3         240            0          1  ...     Attchd   \n",
       "643            2         208            0          0  ...     Attchd   \n",
       "611            2           0            0          0  ...     Attchd   \n",
       "344            1         182            0          0  ...     Attchd   \n",
       "717            2         224            0          0  ...     Attchd   \n",
       "1120           1           0            0          0  ...     Detchd   \n",
       "806            1          68            0          0  ...     Attchd   \n",
       "389            3         196            0          1  ...    BuiltIn   \n",
       "\n",
       "     GarageFinish GarageQual GarageCond PavedDrive PoolQC  Fence MiscFeature  \\\n",
       "529           RFn         TA         TA          Y    NaN    NaN         NaN   \n",
       "414           Unf         TA         TA          Y    NaN    NaN         NaN   \n",
       "462           Unf         TA         TA          Y    NaN   GdWo         NaN   \n",
       "1184          RFn         TA         TA          Y    NaN    NaN         NaN   \n",
       "779           Unf         TA         TA          Y    NaN    NaN         NaN   \n",
       "1213          Unf         TA         TA          Y    NaN    NaN         NaN   \n",
       "707           Fin         TA         TA          Y    NaN    NaN         NaN   \n",
       "320           RFn         TA         TA          Y    NaN    NaN         NaN   \n",
       "643           Fin         TA         TA          Y    NaN   GdWo         NaN   \n",
       "611           Unf         TA         TA          Y    NaN  MnPrv        Shed   \n",
       "344           Unf         TA         TA          Y    NaN    NaN         NaN   \n",
       "717           Unf         TA         TA          Y    NaN  MnPrv         NaN   \n",
       "1120          Unf         TA         TA          Y    NaN  MnPrv         NaN   \n",
       "806           Fin         TA         TA          Y    NaN    NaN         NaN   \n",
       "389           Fin         TA         TA          Y    NaN    NaN         NaN   \n",
       "\n",
       "     SaleType SaleCondition  \n",
       "529        WD        Alloca  \n",
       "414        WD        Normal  \n",
       "462        WD        Normal  \n",
       "1184       WD        Normal  \n",
       "779        WD        Normal  \n",
       "1213       WD        Normal  \n",
       "707        WD        Normal  \n",
       "320       New       Partial  \n",
       "643        WD        Normal  \n",
       "611        WD        Normal  \n",
       "344        WD        Normal  \n",
       "717        WD        Normal  \n",
       "1120       WD        Normal  \n",
       "806        WD        Normal  \n",
       "389       New       Partial  \n",
       "\n",
       "[15 rows x 81 columns]"
      ]
     },
     "execution_count": 4,
     "metadata": {},
     "output_type": "execute_result"
    }
   ],
   "source": [
    "data.sample(15)"
   ]
  },
  {
   "cell_type": "code",
   "execution_count": 5,
   "id": "5b3261a5-aa73-4a98-958b-2d5bfc612bb3",
   "metadata": {
    "tags": []
   },
   "outputs": [
    {
     "data": {
      "text/plain": [
       "array(['Attchd', 'Detchd', 'BuiltIn', 'CarPort', nan, 'Basment', '2Types'],\n",
       "      dtype=object)"
      ]
     },
     "execution_count": 5,
     "metadata": {},
     "output_type": "execute_result"
    }
   ],
   "source": [
    "data.GarageType.unique()"
   ]
  },
  {
   "cell_type": "code",
   "execution_count": 6,
   "id": "91121fa8-dc2d-4652-b148-97f49f3b5719",
   "metadata": {
    "tags": []
   },
   "outputs": [
    {
     "data": {
      "text/plain": [
       "array(['RFn', 'Unf', 'Fin', nan], dtype=object)"
      ]
     },
     "execution_count": 6,
     "metadata": {},
     "output_type": "execute_result"
    }
   ],
   "source": [
    "data.GarageFinish.unique()"
   ]
  },
  {
   "cell_type": "code",
   "execution_count": 7,
   "id": "77115285-8ea5-445a-957e-ea1b2d6db886",
   "metadata": {
    "tags": []
   },
   "outputs": [
    {
     "data": {
      "text/plain": [
       "array([nan, 'MnPrv', 'GdWo', 'GdPrv', 'MnWw'], dtype=object)"
      ]
     },
     "execution_count": 7,
     "metadata": {},
     "output_type": "execute_result"
    }
   ],
   "source": [
    "data.Fence.unique()"
   ]
  },
  {
   "cell_type": "code",
   "execution_count": 8,
   "id": "4c0a0ad6-0585-4300-b639-29252636c660",
   "metadata": {
    "tags": []
   },
   "outputs": [
    {
     "data": {
      "text/plain": [
       "array(['Normal', 'Abnorml', 'Partial', 'AdjLand', 'Alloca', 'Family'],\n",
       "      dtype=object)"
      ]
     },
     "execution_count": 8,
     "metadata": {},
     "output_type": "execute_result"
    }
   ],
   "source": [
    "data.SaleCondition.unique()"
   ]
  },
  {
   "cell_type": "code",
   "execution_count": 9,
   "id": "edc59339-bec2-4398-a9c4-283b4a57d636",
   "metadata": {
    "tags": []
   },
   "outputs": [
    {
     "data": {
      "text/html": [
       "<div>\n",
       "<style scoped>\n",
       "    .dataframe tbody tr th:only-of-type {\n",
       "        vertical-align: middle;\n",
       "    }\n",
       "\n",
       "    .dataframe tbody tr th {\n",
       "        vertical-align: top;\n",
       "    }\n",
       "\n",
       "    .dataframe thead th {\n",
       "        text-align: right;\n",
       "    }\n",
       "</style>\n",
       "<table border=\"1\" class=\"dataframe\">\n",
       "  <thead>\n",
       "    <tr style=\"text-align: right;\">\n",
       "      <th></th>\n",
       "      <th>LotArea</th>\n",
       "      <th>LotFrontage</th>\n",
       "      <th>TotalBsmtSF</th>\n",
       "      <th>BedroomAbvGr</th>\n",
       "      <th>Fireplaces</th>\n",
       "      <th>PoolArea</th>\n",
       "      <th>GarageCars</th>\n",
       "      <th>WoodDeckSF</th>\n",
       "      <th>ScreenPorch</th>\n",
       "      <th>Expensive</th>\n",
       "      <th>...</th>\n",
       "      <th>GarageType</th>\n",
       "      <th>GarageFinish</th>\n",
       "      <th>GarageQual</th>\n",
       "      <th>GarageCond</th>\n",
       "      <th>PavedDrive</th>\n",
       "      <th>PoolQC</th>\n",
       "      <th>Fence</th>\n",
       "      <th>MiscFeature</th>\n",
       "      <th>SaleType</th>\n",
       "      <th>SaleCondition</th>\n",
       "    </tr>\n",
       "  </thead>\n",
       "  <tbody>\n",
       "    <tr>\n",
       "      <th>0</th>\n",
       "      <td>8450</td>\n",
       "      <td>65.0</td>\n",
       "      <td>856</td>\n",
       "      <td>3</td>\n",
       "      <td>0</td>\n",
       "      <td>0</td>\n",
       "      <td>2</td>\n",
       "      <td>0</td>\n",
       "      <td>0</td>\n",
       "      <td>0</td>\n",
       "      <td>...</td>\n",
       "      <td>Attchd</td>\n",
       "      <td>RFn</td>\n",
       "      <td>TA</td>\n",
       "      <td>TA</td>\n",
       "      <td>Y</td>\n",
       "      <td>NaN</td>\n",
       "      <td>NaN</td>\n",
       "      <td>NaN</td>\n",
       "      <td>WD</td>\n",
       "      <td>Normal</td>\n",
       "    </tr>\n",
       "    <tr>\n",
       "      <th>1</th>\n",
       "      <td>9600</td>\n",
       "      <td>80.0</td>\n",
       "      <td>1262</td>\n",
       "      <td>3</td>\n",
       "      <td>1</td>\n",
       "      <td>0</td>\n",
       "      <td>2</td>\n",
       "      <td>298</td>\n",
       "      <td>0</td>\n",
       "      <td>0</td>\n",
       "      <td>...</td>\n",
       "      <td>Attchd</td>\n",
       "      <td>RFn</td>\n",
       "      <td>TA</td>\n",
       "      <td>TA</td>\n",
       "      <td>Y</td>\n",
       "      <td>NaN</td>\n",
       "      <td>NaN</td>\n",
       "      <td>NaN</td>\n",
       "      <td>WD</td>\n",
       "      <td>Normal</td>\n",
       "    </tr>\n",
       "    <tr>\n",
       "      <th>2</th>\n",
       "      <td>11250</td>\n",
       "      <td>68.0</td>\n",
       "      <td>920</td>\n",
       "      <td>3</td>\n",
       "      <td>1</td>\n",
       "      <td>0</td>\n",
       "      <td>2</td>\n",
       "      <td>0</td>\n",
       "      <td>0</td>\n",
       "      <td>0</td>\n",
       "      <td>...</td>\n",
       "      <td>Attchd</td>\n",
       "      <td>RFn</td>\n",
       "      <td>TA</td>\n",
       "      <td>TA</td>\n",
       "      <td>Y</td>\n",
       "      <td>NaN</td>\n",
       "      <td>NaN</td>\n",
       "      <td>NaN</td>\n",
       "      <td>WD</td>\n",
       "      <td>Normal</td>\n",
       "    </tr>\n",
       "    <tr>\n",
       "      <th>3</th>\n",
       "      <td>9550</td>\n",
       "      <td>60.0</td>\n",
       "      <td>756</td>\n",
       "      <td>3</td>\n",
       "      <td>1</td>\n",
       "      <td>0</td>\n",
       "      <td>3</td>\n",
       "      <td>0</td>\n",
       "      <td>0</td>\n",
       "      <td>0</td>\n",
       "      <td>...</td>\n",
       "      <td>Detchd</td>\n",
       "      <td>Unf</td>\n",
       "      <td>TA</td>\n",
       "      <td>TA</td>\n",
       "      <td>Y</td>\n",
       "      <td>NaN</td>\n",
       "      <td>NaN</td>\n",
       "      <td>NaN</td>\n",
       "      <td>WD</td>\n",
       "      <td>Abnorml</td>\n",
       "    </tr>\n",
       "    <tr>\n",
       "      <th>4</th>\n",
       "      <td>14260</td>\n",
       "      <td>84.0</td>\n",
       "      <td>1145</td>\n",
       "      <td>4</td>\n",
       "      <td>1</td>\n",
       "      <td>0</td>\n",
       "      <td>3</td>\n",
       "      <td>192</td>\n",
       "      <td>0</td>\n",
       "      <td>0</td>\n",
       "      <td>...</td>\n",
       "      <td>Attchd</td>\n",
       "      <td>RFn</td>\n",
       "      <td>TA</td>\n",
       "      <td>TA</td>\n",
       "      <td>Y</td>\n",
       "      <td>NaN</td>\n",
       "      <td>NaN</td>\n",
       "      <td>NaN</td>\n",
       "      <td>WD</td>\n",
       "      <td>Normal</td>\n",
       "    </tr>\n",
       "    <tr>\n",
       "      <th>...</th>\n",
       "      <td>...</td>\n",
       "      <td>...</td>\n",
       "      <td>...</td>\n",
       "      <td>...</td>\n",
       "      <td>...</td>\n",
       "      <td>...</td>\n",
       "      <td>...</td>\n",
       "      <td>...</td>\n",
       "      <td>...</td>\n",
       "      <td>...</td>\n",
       "      <td>...</td>\n",
       "      <td>...</td>\n",
       "      <td>...</td>\n",
       "      <td>...</td>\n",
       "      <td>...</td>\n",
       "      <td>...</td>\n",
       "      <td>...</td>\n",
       "      <td>...</td>\n",
       "      <td>...</td>\n",
       "      <td>...</td>\n",
       "      <td>...</td>\n",
       "    </tr>\n",
       "    <tr>\n",
       "      <th>1455</th>\n",
       "      <td>7917</td>\n",
       "      <td>62.0</td>\n",
       "      <td>953</td>\n",
       "      <td>3</td>\n",
       "      <td>1</td>\n",
       "      <td>0</td>\n",
       "      <td>2</td>\n",
       "      <td>0</td>\n",
       "      <td>0</td>\n",
       "      <td>0</td>\n",
       "      <td>...</td>\n",
       "      <td>Attchd</td>\n",
       "      <td>RFn</td>\n",
       "      <td>TA</td>\n",
       "      <td>TA</td>\n",
       "      <td>Y</td>\n",
       "      <td>NaN</td>\n",
       "      <td>NaN</td>\n",
       "      <td>NaN</td>\n",
       "      <td>WD</td>\n",
       "      <td>Normal</td>\n",
       "    </tr>\n",
       "    <tr>\n",
       "      <th>1456</th>\n",
       "      <td>13175</td>\n",
       "      <td>85.0</td>\n",
       "      <td>1542</td>\n",
       "      <td>3</td>\n",
       "      <td>2</td>\n",
       "      <td>0</td>\n",
       "      <td>2</td>\n",
       "      <td>349</td>\n",
       "      <td>0</td>\n",
       "      <td>0</td>\n",
       "      <td>...</td>\n",
       "      <td>Attchd</td>\n",
       "      <td>Unf</td>\n",
       "      <td>TA</td>\n",
       "      <td>TA</td>\n",
       "      <td>Y</td>\n",
       "      <td>NaN</td>\n",
       "      <td>MnPrv</td>\n",
       "      <td>NaN</td>\n",
       "      <td>WD</td>\n",
       "      <td>Normal</td>\n",
       "    </tr>\n",
       "    <tr>\n",
       "      <th>1457</th>\n",
       "      <td>9042</td>\n",
       "      <td>66.0</td>\n",
       "      <td>1152</td>\n",
       "      <td>4</td>\n",
       "      <td>2</td>\n",
       "      <td>0</td>\n",
       "      <td>1</td>\n",
       "      <td>0</td>\n",
       "      <td>0</td>\n",
       "      <td>1</td>\n",
       "      <td>...</td>\n",
       "      <td>Attchd</td>\n",
       "      <td>RFn</td>\n",
       "      <td>TA</td>\n",
       "      <td>TA</td>\n",
       "      <td>Y</td>\n",
       "      <td>NaN</td>\n",
       "      <td>GdPrv</td>\n",
       "      <td>Shed</td>\n",
       "      <td>WD</td>\n",
       "      <td>Normal</td>\n",
       "    </tr>\n",
       "    <tr>\n",
       "      <th>1458</th>\n",
       "      <td>9717</td>\n",
       "      <td>68.0</td>\n",
       "      <td>1078</td>\n",
       "      <td>2</td>\n",
       "      <td>0</td>\n",
       "      <td>0</td>\n",
       "      <td>1</td>\n",
       "      <td>366</td>\n",
       "      <td>0</td>\n",
       "      <td>0</td>\n",
       "      <td>...</td>\n",
       "      <td>Attchd</td>\n",
       "      <td>Unf</td>\n",
       "      <td>TA</td>\n",
       "      <td>TA</td>\n",
       "      <td>Y</td>\n",
       "      <td>NaN</td>\n",
       "      <td>NaN</td>\n",
       "      <td>NaN</td>\n",
       "      <td>WD</td>\n",
       "      <td>Normal</td>\n",
       "    </tr>\n",
       "    <tr>\n",
       "      <th>1459</th>\n",
       "      <td>9937</td>\n",
       "      <td>75.0</td>\n",
       "      <td>1256</td>\n",
       "      <td>3</td>\n",
       "      <td>0</td>\n",
       "      <td>0</td>\n",
       "      <td>1</td>\n",
       "      <td>736</td>\n",
       "      <td>0</td>\n",
       "      <td>0</td>\n",
       "      <td>...</td>\n",
       "      <td>Attchd</td>\n",
       "      <td>Fin</td>\n",
       "      <td>TA</td>\n",
       "      <td>TA</td>\n",
       "      <td>Y</td>\n",
       "      <td>NaN</td>\n",
       "      <td>NaN</td>\n",
       "      <td>NaN</td>\n",
       "      <td>WD</td>\n",
       "      <td>Normal</td>\n",
       "    </tr>\n",
       "  </tbody>\n",
       "</table>\n",
       "<p>1460 rows × 81 columns</p>\n",
       "</div>"
      ],
      "text/plain": [
       "      LotArea  LotFrontage  TotalBsmtSF  BedroomAbvGr  Fireplaces  PoolArea  \\\n",
       "0        8450         65.0          856             3           0         0   \n",
       "1        9600         80.0         1262             3           1         0   \n",
       "2       11250         68.0          920             3           1         0   \n",
       "3        9550         60.0          756             3           1         0   \n",
       "4       14260         84.0         1145             4           1         0   \n",
       "...       ...          ...          ...           ...         ...       ...   \n",
       "1455     7917         62.0          953             3           1         0   \n",
       "1456    13175         85.0         1542             3           2         0   \n",
       "1457     9042         66.0         1152             4           2         0   \n",
       "1458     9717         68.0         1078             2           0         0   \n",
       "1459     9937         75.0         1256             3           0         0   \n",
       "\n",
       "      GarageCars  WoodDeckSF  ScreenPorch  Expensive  ... GarageType  \\\n",
       "0              2           0            0          0  ...     Attchd   \n",
       "1              2         298            0          0  ...     Attchd   \n",
       "2              2           0            0          0  ...     Attchd   \n",
       "3              3           0            0          0  ...     Detchd   \n",
       "4              3         192            0          0  ...     Attchd   \n",
       "...          ...         ...          ...        ...  ...        ...   \n",
       "1455           2           0            0          0  ...     Attchd   \n",
       "1456           2         349            0          0  ...     Attchd   \n",
       "1457           1           0            0          1  ...     Attchd   \n",
       "1458           1         366            0          0  ...     Attchd   \n",
       "1459           1         736            0          0  ...     Attchd   \n",
       "\n",
       "     GarageFinish GarageQual GarageCond PavedDrive PoolQC  Fence MiscFeature  \\\n",
       "0             RFn         TA         TA          Y    NaN    NaN         NaN   \n",
       "1             RFn         TA         TA          Y    NaN    NaN         NaN   \n",
       "2             RFn         TA         TA          Y    NaN    NaN         NaN   \n",
       "3             Unf         TA         TA          Y    NaN    NaN         NaN   \n",
       "4             RFn         TA         TA          Y    NaN    NaN         NaN   \n",
       "...           ...        ...        ...        ...    ...    ...         ...   \n",
       "1455          RFn         TA         TA          Y    NaN    NaN         NaN   \n",
       "1456          Unf         TA         TA          Y    NaN  MnPrv         NaN   \n",
       "1457          RFn         TA         TA          Y    NaN  GdPrv        Shed   \n",
       "1458          Unf         TA         TA          Y    NaN    NaN         NaN   \n",
       "1459          Fin         TA         TA          Y    NaN    NaN         NaN   \n",
       "\n",
       "     SaleType SaleCondition  \n",
       "0          WD        Normal  \n",
       "1          WD        Normal  \n",
       "2          WD        Normal  \n",
       "3          WD       Abnorml  \n",
       "4          WD        Normal  \n",
       "...       ...           ...  \n",
       "1455       WD        Normal  \n",
       "1456       WD        Normal  \n",
       "1457       WD        Normal  \n",
       "1458       WD        Normal  \n",
       "1459       WD        Normal  \n",
       "\n",
       "[1460 rows x 81 columns]"
      ]
     },
     "execution_count": 9,
     "metadata": {},
     "output_type": "execute_result"
    }
   ],
   "source": [
    "data"
   ]
  },
  {
   "cell_type": "markdown",
   "id": "996fe65a-cdd9-4945-9d14-82ed6ab848d4",
   "metadata": {},
   "source": [
    "### 1.3 X and y labels creating "
   ]
  },
  {
   "cell_type": "code",
   "execution_count": 10,
   "id": "fc32e9e0-2e4e-404d-a87a-a398624be1a8",
   "metadata": {
    "tags": []
   },
   "outputs": [],
   "source": [
    "X = data                 #drop if need a few columns are't usefull\n",
    "y = X.pop(\"Expensive\")"
   ]
  },
  {
   "cell_type": "markdown",
   "id": "ae0ed5b0-acf6-4f71-ba86-e2b56dc34c6b",
   "metadata": {},
   "source": [
    "### 1.4 Spliting the data"
   ]
  },
  {
   "cell_type": "code",
   "execution_count": 11,
   "id": "21385b3f-c02f-4c49-a75c-fcba25c9cc4c",
   "metadata": {
    "tags": []
   },
   "outputs": [],
   "source": [
    "X_train, X_test, y_train, y_test = train_test_split(X, y, test_size=0.2, random_state=123)"
   ]
  },
  {
   "cell_type": "markdown",
   "id": "59db081a-4ea6-4ac9-91ae-f0e6ca85a1f1",
   "metadata": {},
   "source": [
    "### 1.5 Creating 2 pipelines are performing in pararel and add it in preprocessor"
   ]
  },
  {
   "cell_type": "code",
   "execution_count": 18,
   "id": "473a16be-2804-41e2-b5a5-2cb3a42abb95",
   "metadata": {
    "tags": []
   },
   "outputs": [],
   "source": [
    "X_cat = X.select_dtypes(exclude=\"number\").copy()\n",
    "X_num = X.select_dtypes(include=\"number\").copy()\n",
    "\n",
    "\n",
    "\n",
    "numeric_pipe = make_pipeline(\n",
    "    SimpleImputer(strategy=\"mean\"))\n",
    "\n",
    "categoric_pipe = make_pipeline(\n",
    "    SimpleImputer(strategy=\"constant\", fill_value=\"N_A\"),\n",
    "    OneHotEncoder(handle_unknown='ignore', sparse_output=False)\n",
    ")\n",
    "\n",
    "\n",
    "\n",
    "preprocessor = ColumnTransformer(\n",
    "    transformers=[\n",
    "        (\"num_pipe\", numeric_pipe, X_num.columns),      #X_num\n",
    "        (\"cat_pipe\", categoric_pipe, X_cat.columns),    #X_cat\n",
    "    ]\n",
    ")"
   ]
  },
  {
   "cell_type": "markdown",
   "id": "6f3b8783-884b-48bd-a571-5f90bd40920a",
   "metadata": {},
   "source": [
    "2. Modeling -  Decision Tree"
   ]
  },
  {
   "cell_type": "code",
   "execution_count": 13,
   "id": "945e4e6d-6a74-44f8-a2c9-914b4b7de88f",
   "metadata": {
    "tags": []
   },
   "outputs": [
    {
     "name": "stdout",
     "output_type": "stream",
     "text": [
      "Fitting 5 folds for each of 60 candidates, totalling 300 fits\n"
     ]
    },
    {
     "data": {
      "text/plain": [
       "{'dtree': 0.9289314405194233}"
      ]
     },
     "execution_count": 13,
     "metadata": {},
     "output_type": "execute_result"
    }
   ],
   "source": [
    "from sklearn.model_selection import GridSearchCV\n",
    "big_pipeline = make_pipeline(preprocessor,\n",
    "                              DecisionTreeClassifier())\n",
    "\n",
    "param_grid = {\n",
    "    \"columntransformer__num_pipe__simpleimputer__strategy\":[\"mean\", \"median\"],\n",
    "    \"decisiontreeclassifier__max_depth\": range(2, 14, 2),\n",
    "    \"decisiontreeclassifier__min_samples_leaf\": range(3, 12, 2)\n",
    "}\n",
    "  \n",
    "search_dt = GridSearchCV(big_pipeline,\n",
    "                      param_grid,\n",
    "                      cv=5,\n",
    "                      verbose=1)\n",
    "\n",
    "search_dt.fit(X_train, y_train)  \n",
    "\n",
    "scores = {\"dtree\" : search_dt.best_score_}\n",
    "scores"
   ]
  },
  {
   "cell_type": "markdown",
   "id": "3454e567-0364-4321-afdc-d821b19bebd7",
   "metadata": {},
   "source": [
    "3. Error Analysis"
   ]
  },
  {
   "cell_type": "markdown",
   "id": "8ce309d9-179a-4706-a8ae-dca725278602",
   "metadata": {},
   "source": [
    "3.1 Test acuracy"
   ]
  },
  {
   "cell_type": "code",
   "execution_count": 14,
   "id": "098d0ec7-0e74-4dc5-803b-6cd8856b545d",
   "metadata": {
    "tags": []
   },
   "outputs": [
    {
     "data": {
      "text/plain": [
       "0.928082191780822"
      ]
     },
     "execution_count": 14,
     "metadata": {},
     "output_type": "execute_result"
    }
   ],
   "source": [
    "accuracy_score(search_dt.predict(X_test), y_test)\n",
    "#without any fit to this data"
   ]
  },
  {
   "cell_type": "markdown",
   "id": "91c51573-1fcb-476b-9bc4-c1657e7caeea",
   "metadata": {},
   "source": [
    "3.2 Plot it using ConfusionMatrix"
   ]
  },
  {
   "cell_type": "code",
   "execution_count": 26,
   "id": "f619b647-f41d-4f6e-9510-dae8d625043b",
   "metadata": {
    "tags": []
   },
   "outputs": [
    {
     "data": {
      "image/png": "[encoded data removed]",
      "text/plain": [
       "<Figure size 640x480 with 2 Axes>"
      ]
     },
     "metadata": {},
     "output_type": "display_data"
    }
   ],
   "source": [
    "#from sklearn.metrics import plot_confusion_matrix\n",
    "#plot_confusion_matrix(search, X_test, y_test, display_labels=['Not Survied', 'Survived']);\n",
    "\n",
    "from sklearn.metrics import ConfusionMatrixDisplay\n",
    "ConfusionMatrixDisplay.from_estimator(search_dt,\n",
    "                                      X_test,\n",
    "                                      y_test,\n",
    "                                      display_labels=['Cheap', 'Expensive']);"
   ]
  },
  {
   "cell_type": "code",
   "execution_count": 21,
   "id": "24e344ae-2195-4f6c-8feb-513304233cca",
   "metadata": {
    "tags": []
   },
   "outputs": [
    {
     "ename": "NameError",
     "evalue": "name 'dt_df' is not defined",
     "output_type": "error",
     "traceback": [
      "\u001b[1;31m---------------------------------------------------------------------------\u001b[0m",
      "\u001b[1;31mNameError\u001b[0m                                 Traceback (most recent call last)",
      "Cell \u001b[1;32mIn[21], line 1\u001b[0m\n\u001b[1;32m----> 1\u001b[0m DecisionTreeClassifier \u001b[38;5;241m=\u001b[39m \u001b[43mdt_df\u001b[49m      \u001b[38;5;66;03m#pd.DataFrame(search_dt.predict(xx_test))\u001b[39;00m\n\u001b[0;32m      2\u001b[0m DecisionTreeClassifier\u001b[38;5;241m.\u001b[39mto_csv(\u001b[38;5;124m'\u001b[39m\u001b[38;5;124mDecisionTreeClassifier.csv\u001b[39m\u001b[38;5;124m'\u001b[39m, index\u001b[38;5;241m=\u001b[39m\u001b[38;5;28;01mFalse\u001b[39;00m)\n",
      "\u001b[1;31mNameError\u001b[0m: name 'dt_df' is not defined"
     ]
    }
   ],
   "source": [
    "DecisionTreeClassifier = dt_df      #pd.DataFrame(search_dt.predict(xx_test))\n",
    "DecisionTreeClassifier.to_csv('DecisionTreeClassifier.csv', index=False)"
   ]
  },
  {
   "cell_type": "code",
   "execution_count": 20,
   "id": "cf52d238-2abb-42a3-bba4-0cfeecd5f992",
   "metadata": {
    "tags": []
   },
   "outputs": [
    {
     "ename": "NameError",
     "evalue": "name 'search_lr' is not defined",
     "output_type": "error",
     "traceback": [
      "\u001b[1;31m---------------------------------------------------------------------------\u001b[0m",
      "\u001b[1;31mNameError\u001b[0m                                 Traceback (most recent call last)",
      "Cell \u001b[1;32mIn[20], line 1\u001b[0m\n\u001b[1;32m----> 1\u001b[0m dt_df \u001b[38;5;241m=\u001b[39m pd\u001b[38;5;241m.\u001b[39mDataFrame(\u001b[43msearch_lr\u001b[49m\u001b[38;5;241m.\u001b[39mpredict(xx_test))\n\u001b[0;32m      2\u001b[0m dt_df\u001b[38;5;241m.\u001b[39mrename(columns \u001b[38;5;241m=\u001b[39m {\u001b[38;5;241m0\u001b[39m:\u001b[38;5;124m'\u001b[39m\u001b[38;5;124mExpensive\u001b[39m\u001b[38;5;124m'\u001b[39m}, inplace\u001b[38;5;241m=\u001b[39m\u001b[38;5;28;01mTrue\u001b[39;00m)\n\u001b[0;32m      3\u001b[0m dt_df\n",
      "\u001b[1;31mNameError\u001b[0m: name 'search_lr' is not defined"
     ]
    }
   ],
   "source": [
    "dt_df = pd.DataFrame(search_lr.predict(xx_test))\n",
    "dt_df.rename(columns = {0:'Expensive'}, inplace=True)\n",
    "dt_df"
   ]
  },
  {
   "cell_type": "code",
   "execution_count": 22,
   "id": "4b67b02c-3f94-4aea-9c44-f9f853017886",
   "metadata": {
    "tags": []
   },
   "outputs": [
    {
     "data": {
      "text/plain": [
       "0.8971428571428571"
      ]
     },
     "execution_count": 22,
     "metadata": {},
     "output_type": "execute_result"
    }
   ],
   "source": [
    "import numpy as np\n",
    "from sklearn.metrics import f1_score\n",
    "y_true = y_train\n",
    "y_pred = search_dt.predict(X_train)\n",
    "f1_score(y_true, y_pred)# ,average=None)"
   ]
  },
  {
   "cell_type": "code",
   "execution_count": 23,
   "id": "bf6173f1-b217-4b24-b4d7-2de6bf4a3f78",
   "metadata": {
    "tags": []
   },
   "outputs": [
    {
     "data": {
      "text/plain": [
       "0.7529411764705882"
      ]
     },
     "execution_count": 23,
     "metadata": {},
     "output_type": "execute_result"
    }
   ],
   "source": [
    "import numpy as np\n",
    "from sklearn.metrics import f1_score\n",
    "y_true = y_test\n",
    "y_pred = search_dt.predict(X_test)\n",
    "f1_score(y_true, y_pred)# ,average=None)"
   ]
  },
  {
   "cell_type": "code",
   "execution_count": null,
   "id": "8793795c-21e7-4e68-82a7-9bcda77a4399",
   "metadata": {},
   "outputs": [],
   "source": []
  },
  {
   "cell_type": "code",
   "execution_count": null,
   "id": "33d1667b-2560-4a39-ba3b-f64898632d7b",
   "metadata": {},
   "outputs": [],
   "source": []
  },
  {
   "cell_type": "code",
   "execution_count": null,
   "id": "fa60e414-81ac-4c70-9c98-037f58e5e9f4",
   "metadata": {},
   "outputs": [],
   "source": []
  },
  {
   "cell_type": "code",
   "execution_count": null,
   "id": "41bb25e0-9436-45ec-a308-26538d04d5b3",
   "metadata": {},
   "outputs": [],
   "source": []
  },
  {
   "cell_type": "code",
   "execution_count": null,
   "id": "c680e76c-a1dc-4220-b740-1401e8ef25ec",
   "metadata": {},
   "outputs": [],
   "source": [
    "++ METRICS F1 SCORE"
   ]
  },
  {
   "cell_type": "code",
   "execution_count": 27,
   "id": "5e9cd9b8-e0da-4a30-b269-f25bb557ec04",
   "metadata": {
    "tags": []
   },
   "outputs": [
    {
     "data": {
      "text/plain": [
       "(array([0.98187311, 0.89714286]),\n",
       " array([0.98187311, 0.89714286]),\n",
       " array([0.98187311, 0.89714286]),\n",
       " array([993, 175], dtype=int64))"
      ]
     },
     "execution_count": 27,
     "metadata": {},
     "output_type": "execute_result"
    }
   ],
   "source": [
    "from sklearn import metrics\n",
    "y_pred = y_train\n",
    "y_true = search_dt.predict(X_train)\n",
    "metrics.precision_score(y_true, y_pred)\n",
    "metrics.recall_score(y_true, y_pred)\n",
    "metrics.f1_score(y_true, y_pred)\n",
    "metrics.fbeta_score(y_true, y_pred, beta=0.5)\n",
    "metrics.fbeta_score(y_true, y_pred, beta=1)\n",
    "metrics.fbeta_score(y_true, y_pred, beta=2)\n",
    "metrics.precision_recall_fscore_support(y_true, y_pred)#, beta=0.5)"
   ]
  },
  {
   "cell_type": "code",
   "execution_count": 29,
   "id": "c1830bfc-ba4c-46af-855b-dfbcc8ee833b",
   "metadata": {
    "tags": []
   },
   "outputs": [
    {
     "data": {
      "text/plain": [
       "0.8971428571428571"
      ]
     },
     "execution_count": 29,
     "metadata": {},
     "output_type": "execute_result"
    }
   ],
   "source": [
    "import numpy as np\n",
    "from sklearn.metrics import f1_score\n",
    "y_true = y_train\n",
    "y_pred = search_dt.predict(X_train)\n",
    "f1_score(y_true, y_pred)# ,average=None)\n"
   ]
  },
  {
   "cell_type": "code",
   "execution_count": 30,
   "id": "82a50886-b16b-478d-a4ce-e37b3eeeafae",
   "metadata": {
    "tags": []
   },
   "outputs": [
    {
     "data": {
      "text/plain": [
       "0.7529411764705882"
      ]
     },
     "execution_count": 30,
     "metadata": {},
     "output_type": "execute_result"
    }
   ],
   "source": [
    "import numpy as np\n",
    "from sklearn.metrics import f1_score\n",
    "y_true = y_test\n",
    "y_pred = search_dt.predict(X_test)\n",
    "f1_score(y_true, y_pred)# average=None)"
   ]
  },
  {
   "cell_type": "code",
   "execution_count": 31,
   "id": "9cab43b9-7bc0-4595-9261-ea17574da989",
   "metadata": {
    "tags": []
   },
   "outputs": [
    {
     "data": {
      "text/plain": [
       "array([0, 0, 0, 0, 0, 1, 1, 0, 0, 0, 0, 0, 0, 0, 1, 0, 0, 1, 1, 0, 0, 0,\n",
       "       0, 0, 0, 0, 0, 0, 0, 0, 0, 0, 0, 0, 1, 0, 0, 1, 0, 0, 0, 0, 0, 0,\n",
       "       0, 0, 0, 0, 1, 0, 0, 0, 0, 0, 0, 0, 0, 0, 1, 1, 0, 1, 0, 0, 0, 0,\n",
       "       0, 0, 0, 0, 0, 0, 0, 1, 0, 0, 0, 0, 0, 0, 1, 1, 0, 0, 1, 0, 0, 0,\n",
       "       0, 1, 0, 0, 0, 0, 0, 0, 0, 0, 0, 0, 0, 1, 1, 0, 0, 0, 0, 0, 0, 1,\n",
       "       1, 0, 0, 1, 0, 0, 0, 1, 0, 0, 0, 0, 0, 0, 1, 1, 0, 0, 0, 1, 0, 1,\n",
       "       1, 0, 0, 0, 1, 0, 0, 0, 0, 0, 0, 0, 0, 1, 0, 0, 0, 0, 0, 0, 1, 0,\n",
       "       1, 0, 1, 0, 0, 0, 1, 0, 1, 0, 0, 0, 0, 0, 0, 0, 0, 0, 1, 0, 0, 1,\n",
       "       0, 0, 0, 0, 0, 0, 0, 0, 0, 0, 0, 0, 0, 0, 0, 0, 0, 0, 0, 1, 0, 0,\n",
       "       0, 0, 0, 1, 0, 0, 0, 0, 0, 0, 0, 0, 0, 0, 0, 0, 0, 1, 0, 0, 0, 0,\n",
       "       0, 0, 0, 0, 0, 0, 0, 0, 0, 0, 0, 0, 0, 0, 0, 0, 0, 0, 0, 0, 0, 0,\n",
       "       0, 0, 0, 0, 0, 1, 0, 0, 0, 0, 0, 0, 0, 0, 1, 0, 0, 0, 0, 0, 0, 0,\n",
       "       0, 0, 1, 0, 0, 0, 0, 0, 0, 0, 1, 0, 0, 0, 0, 0, 0, 0, 0, 0, 0, 0,\n",
       "       0, 0, 0, 0, 0, 0], dtype=int64)"
      ]
     },
     "execution_count": 31,
     "metadata": {},
     "output_type": "execute_result"
    }
   ],
   "source": [
    "y_pred"
   ]
  },
  {
   "cell_type": "code",
   "execution_count": null,
   "id": "9e057b58-0656-4f18-bdc5-5298d61c0c57",
   "metadata": {},
   "outputs": [],
   "source": []
  },
  {
   "cell_type": "code",
   "execution_count": null,
   "id": "2e503b24-3d2b-4e20-84c9-a10b76df5781",
   "metadata": {},
   "outputs": [],
   "source": []
  },
  {
   "cell_type": "code",
   "execution_count": null,
   "id": "34c8062e-dc5f-461d-b7d8-c69a94da5dd7",
   "metadata": {},
   "outputs": [],
   "source": []
  },
  {
   "cell_type": "markdown",
   "id": "f6cc29a4-6570-4567-8c2e-b5126428aa07",
   "metadata": {},
   "source": [
    "## 2.Preprocessing data For KNN Classifier"
   ]
  },
  {
   "cell_type": "markdown",
   "id": "bfab911f-63fd-44cd-8ff2-16f2e1b9aa16",
   "metadata": {},
   "source": [
    "For KNeighborsClassifier we must to scale our data\n",
    "So we making the another one 'preprocessing'"
   ]
  },
  {
   "cell_type": "code",
   "execution_count": 32,
   "id": "89dcb712-563e-4557-b215-f234afb70acf",
   "metadata": {
    "tags": []
   },
   "outputs": [],
   "source": [
    "from sklearn.preprocessing import MinMaxScaler\n",
    "from sklearn.preprocessing import StandardScaler\n",
    "X_cat = X.select_dtypes(exclude=\"number\").copy()\n",
    "X_num = X.select_dtypes(include=\"number\").copy()\n",
    "\n",
    "\n",
    "\n",
    "numeric_pipe = make_pipeline(\n",
    "    SimpleImputer(strategy=\"mean\"),\n",
    "    MinMaxScaler())\n",
    "\n",
    "categoric_pipe = make_pipeline(\n",
    "    SimpleImputer(strategy=\"constant\", fill_value=\"N_A\"),\n",
    "    OneHotEncoder(handle_unknown='ignore', sparse_output=False)\n",
    ")\n",
    "\n",
    "\n",
    "\n",
    "preprocessor = ColumnTransformer(\n",
    "    transformers=[\n",
    "        (\"num_pipe\", numeric_pipe, X_num.columns),      #X_num\n",
    "        (\"cat_pipe\", categoric_pipe, X_cat.columns),    #X_cat\n",
    "    ]\n",
    ")"
   ]
  },
  {
   "cell_type": "code",
   "execution_count": 33,
   "id": "95e28b4b-2144-4b36-a15d-4f9e9d04809b",
   "metadata": {
    "tags": []
   },
   "outputs": [
    {
     "data": {
      "text/html": [
       "<style>#sk-container-id-1 {color: black;}#sk-container-id-1 pre{padding: 0;}#sk-container-id-1 div.sk-toggleable {background-color: white;}#sk-container-id-1 label.sk-toggleable__label {cursor: pointer;display: block;width: 100%;margin-bottom: 0;padding: 0.3em;box-sizing: border-box;text-align: center;}#sk-container-id-1 label.sk-toggleable__label-arrow:before {content: \"▸\";float: left;margin-right: 0.25em;color: #696969;}#sk-container-id-1 label.sk-toggleable__label-arrow:hover:before {color: black;}#sk-container-id-1 div.sk-estimator:hover label.sk-toggleable__label-arrow:before {color: black;}#sk-container-id-1 div.sk-toggleable__content {max-height: 0;max-width: 0;overflow: hidden;text-align: left;background-color: #f0f8ff;}#sk-container-id-1 div.sk-toggleable__content pre {margin: 0.2em;color: black;border-radius: 0.25em;background-color: #f0f8ff;}#sk-container-id-1 input.sk-toggleable__control:checked~div.sk-toggleable__content {max-height: 200px;max-width: 100%;overflow: auto;}#sk-container-id-1 input.sk-toggleable__control:checked~label.sk-toggleable__label-arrow:before {content: \"▾\";}#sk-container-id-1 div.sk-estimator input.sk-toggleable__control:checked~label.sk-toggleable__label {background-color: #d4ebff;}#sk-container-id-1 div.sk-label input.sk-toggleable__control:checked~label.sk-toggleable__label {background-color: #d4ebff;}#sk-container-id-1 input.sk-hidden--visually {border: 0;clip: rect(1px 1px 1px 1px);clip: rect(1px, 1px, 1px, 1px);height: 1px;margin: -1px;overflow: hidden;padding: 0;position: absolute;width: 1px;}#sk-container-id-1 div.sk-estimator {font-family: monospace;background-color: #f0f8ff;border: 1px dotted black;border-radius: 0.25em;box-sizing: border-box;margin-bottom: 0.5em;}#sk-container-id-1 div.sk-estimator:hover {background-color: #d4ebff;}#sk-container-id-1 div.sk-parallel-item::after {content: \"\";width: 100%;border-bottom: 1px solid gray;flex-grow: 1;}#sk-container-id-1 div.sk-label:hover label.sk-toggleable__label {background-color: #d4ebff;}#sk-container-id-1 div.sk-serial::before {content: \"\";position: absolute;border-left: 1px solid gray;box-sizing: border-box;top: 0;bottom: 0;left: 50%;z-index: 0;}#sk-container-id-1 div.sk-serial {display: flex;flex-direction: column;align-items: center;background-color: white;padding-right: 0.2em;padding-left: 0.2em;position: relative;}#sk-container-id-1 div.sk-item {position: relative;z-index: 1;}#sk-container-id-1 div.sk-parallel {display: flex;align-items: stretch;justify-content: center;background-color: white;position: relative;}#sk-container-id-1 div.sk-item::before, #sk-container-id-1 div.sk-parallel-item::before {content: \"\";position: absolute;border-left: 1px solid gray;box-sizing: border-box;top: 0;bottom: 0;left: 50%;z-index: -1;}#sk-container-id-1 div.sk-parallel-item {display: flex;flex-direction: column;z-index: 1;position: relative;background-color: white;}#sk-container-id-1 div.sk-parallel-item:first-child::after {align-self: flex-end;width: 50%;}#sk-container-id-1 div.sk-parallel-item:last-child::after {align-self: flex-start;width: 50%;}#sk-container-id-1 div.sk-parallel-item:only-child::after {width: 0;}#sk-container-id-1 div.sk-dashed-wrapped {border: 1px dashed gray;margin: 0 0.4em 0.5em 0.4em;box-sizing: border-box;padding-bottom: 0.4em;background-color: white;}#sk-container-id-1 div.sk-label label {font-family: monospace;font-weight: bold;display: inline-block;line-height: 1.2em;}#sk-container-id-1 div.sk-label-container {text-align: center;}#sk-container-id-1 div.sk-container {/* jupyter's `normalize.less` sets `[hidden] { display: none; }` but bootstrap.min.css set `[hidden] { display: none !important; }` so we also need the `!important` here to be able to override the default hidden behavior on the sphinx rendered scikit-learn.org. See: https://github.com/scikit-learn/scikit-learn/issues/21755 */display: inline-block !important;position: relative;}#sk-container-id-1 div.sk-text-repr-fallback {display: none;}</style><div id=\"sk-container-id-1\" class=\"sk-top-container\"><div class=\"sk-text-repr-fallback\"><pre>Pipeline(steps=[(&#x27;simpleimputer&#x27;, SimpleImputer()),\n",
       "                (&#x27;minmaxscaler&#x27;, MinMaxScaler())])</pre><b>In a Jupyter environment, please rerun this cell to show the HTML representation or trust the notebook. <br />On GitHub, the HTML representation is unable to render, please try loading this page with nbviewer.org.</b></div><div class=\"sk-container\" hidden><div class=\"sk-item sk-dashed-wrapped\"><div class=\"sk-label-container\"><div class=\"sk-label sk-toggleable\"><input class=\"sk-toggleable__control sk-hidden--visually\" id=\"sk-estimator-id-1\" type=\"checkbox\" ><label for=\"sk-estimator-id-1\" class=\"sk-toggleable__label sk-toggleable__label-arrow\">Pipeline</label><div class=\"sk-toggleable__content\"><pre>Pipeline(steps=[(&#x27;simpleimputer&#x27;, SimpleImputer()),\n",
       "                (&#x27;minmaxscaler&#x27;, MinMaxScaler())])</pre></div></div></div><div class=\"sk-serial\"><div class=\"sk-item\"><div class=\"sk-estimator sk-toggleable\"><input class=\"sk-toggleable__control sk-hidden--visually\" id=\"sk-estimator-id-2\" type=\"checkbox\" ><label for=\"sk-estimator-id-2\" class=\"sk-toggleable__label sk-toggleable__label-arrow\">SimpleImputer</label><div class=\"sk-toggleable__content\"><pre>SimpleImputer()</pre></div></div></div><div class=\"sk-item\"><div class=\"sk-estimator sk-toggleable\"><input class=\"sk-toggleable__control sk-hidden--visually\" id=\"sk-estimator-id-3\" type=\"checkbox\" ><label for=\"sk-estimator-id-3\" class=\"sk-toggleable__label sk-toggleable__label-arrow\">MinMaxScaler</label><div class=\"sk-toggleable__content\"><pre>MinMaxScaler()</pre></div></div></div></div></div></div></div>"
      ],
      "text/plain": [
       "Pipeline(steps=[('simpleimputer', SimpleImputer()),\n",
       "                ('minmaxscaler', MinMaxScaler())])"
      ]
     },
     "execution_count": 33,
     "metadata": {},
     "output_type": "execute_result"
    }
   ],
   "source": [
    "numeric_pipe"
   ]
  },
  {
   "cell_type": "markdown",
   "id": "89a18bc2-b2d1-4335-a9bb-cd4b71edd84b",
   "metadata": {},
   "source": [
    "2. Modeling - KNeighborsClassifier"
   ]
  },
  {
   "cell_type": "code",
   "execution_count": 34,
   "id": "65e196f8-ad89-4315-b1a2-d10568c00a17",
   "metadata": {
    "tags": []
   },
   "outputs": [
    {
     "name": "stdout",
     "output_type": "stream",
     "text": [
      "Fitting 5 folds for each of 16 candidates, totalling 80 fits\n"
     ]
    },
    {
     "data": {
      "text/plain": [
       "{'KNN': 0.9263636697113091}"
      ]
     },
     "execution_count": 34,
     "metadata": {},
     "output_type": "execute_result"
    }
   ],
   "source": [
    "from sklearn.model_selection import GridSearchCV\n",
    "from sklearn.neighbors import KNeighborsClassifier\n",
    "\n",
    "\n",
    "big_pipeline = make_pipeline(preprocessor,\n",
    "                              KNeighborsClassifier())\n",
    "\n",
    "param_grid = {\n",
    "    \"columntransformer__num_pipe__simpleimputer__strategy\":[\"mean\", \"median\"],\n",
    "    \"columntransformer__num_pipe__minmaxscaler__clip\":[True, False],\n",
    "    \"kneighborsclassifier__n_neighbors\": range(3, 10, 2)#not be the pairs numbers (2,4,6,8)\n",
    "    #\"kneighborsclassifier__p\":[1.3],  #not really usefull\n",
    "    #\"kneighborsclassifier__weights\":['distance', 'uniform']    #not really usefull\n",
    "}\n",
    "\n",
    "search_knn = GridSearchCV(big_pipeline,\n",
    "                      param_grid,\n",
    "                      cv=5,\n",
    "                      verbose=1)\n",
    "\n",
    "search_knn.fit(X_train, y_train)\n",
    "\n",
    "scores = {\"KNN\" : search_knn.best_score_}\n",
    "scores"
   ]
  },
  {
   "cell_type": "code",
   "execution_count": 35,
   "id": "f39883cc-af6b-457b-9e09-891ad4af63c1",
   "metadata": {
    "tags": []
   },
   "outputs": [
    {
     "data": {
      "text/plain": [
       "{'columntransformer__num_pipe__minmaxscaler__clip': True,\n",
       " 'columntransformer__num_pipe__simpleimputer__strategy': 'mean',\n",
       " 'kneighborsclassifier__n_neighbors': 5}"
      ]
     },
     "execution_count": 35,
     "metadata": {},
     "output_type": "execute_result"
    }
   ],
   "source": [
    "search_knn.best_params_"
   ]
  },
  {
   "cell_type": "markdown",
   "id": "3e28732e-613d-4a3d-8e8d-790df1483b0d",
   "metadata": {},
   "source": [
    "3. Error Analysis\n",
    "3.1 Test data accuracy "
   ]
  },
  {
   "cell_type": "code",
   "execution_count": 36,
   "id": "fc456c38-9f49-4585-b59b-bb5609d54e1a",
   "metadata": {
    "tags": []
   },
   "outputs": [
    {
     "data": {
      "text/plain": [
       "0.934931506849315"
      ]
     },
     "execution_count": 36,
     "metadata": {},
     "output_type": "execute_result"
    }
   ],
   "source": [
    "accuracy_score(search_knn.predict(X_test), y_test)\n",
    "#without any fit to this data"
   ]
  },
  {
   "cell_type": "markdown",
   "id": "800aa7ff-b442-43fb-8a6b-c42cb127ae4a",
   "metadata": {},
   "source": [
    "3.2 Plot it "
   ]
  },
  {
   "cell_type": "code",
   "execution_count": 37,
   "id": "4c5e6d28-bd85-4112-b1f7-4972d68d61ab",
   "metadata": {
    "tags": []
   },
   "outputs": [
    {
     "data": {
      "image/png": "[encoded data removed]",
      "text/plain": [
       "<Figure size 640x480 with 2 Axes>"
      ]
     },
     "metadata": {},
     "output_type": "display_data"
    }
   ],
   "source": [
    "#from sklearn.metrics import plot_confusion_matrix\n",
    "#plot_confusion_matrix(search, X_test, y_test, display_labels=['Not Survied', 'Survived']);\n",
    "\n",
    "from sklearn.metrics import ConfusionMatrixDisplay\n",
    "ConfusionMatrixDisplay.from_estimator(search_knn,\n",
    "                                      X_test,\n",
    "                                      y_test,\n",
    "                                      display_labels=['Cheap', 'Expensive']);"
   ]
  },
  {
   "cell_type": "code",
   "execution_count": null,
   "id": "5f806834-3ef7-4a22-af7d-46d108b4071a",
   "metadata": {
    "tags": []
   },
   "outputs": [],
   "source": [
    "KNeighborsClassifier = search_knn       #pd.DataFrame(search_knn.predict(xx_test))\n",
    "KNeighborsClassifier.to_csv('KNeighborsClassifier.csv', index=False)"
   ]
  },
  {
   "cell_type": "code",
   "execution_count": null,
   "id": "63560431-fb8a-422b-8420-6756ed4ea9a4",
   "metadata": {
    "tags": []
   },
   "outputs": [],
   "source": [
    "# ?????????????????\n",
    "knn_df = pd.DataFrame(search_knn.predict(y_train))\n",
    "knn_df.rename(columns = {0:'Expensive'}, inplace=True)\n",
    "knn_df"
   ]
  },
  {
   "cell_type": "code",
   "execution_count": 44,
   "id": "4fcb0727-68d4-43d3-8531-b01f29111943",
   "metadata": {
    "tags": []
   },
   "outputs": [
    {
     "data": {
      "text/plain": [
       "0.7766990291262136"
      ]
     },
     "execution_count": 44,
     "metadata": {},
     "output_type": "execute_result"
    }
   ],
   "source": [
    "import numpy as np\n",
    "from sklearn.metrics import f1_score\n",
    "y_true = y_train\n",
    "y_pred = search_knn.predict(X_train)\n",
    "f1_score(y_true, y_pred)# ,average=None)"
   ]
  },
  {
   "cell_type": "code",
   "execution_count": 45,
   "id": "f535553f-1288-4fb3-9a22-819abcf38093",
   "metadata": {
    "tags": []
   },
   "outputs": [
    {
     "data": {
      "text/plain": [
       "0.732394366197183"
      ]
     },
     "execution_count": 45,
     "metadata": {},
     "output_type": "execute_result"
    }
   ],
   "source": [
    "import numpy as np\n",
    "from sklearn.metrics import f1_score\n",
    "y_true = y_test\n",
    "y_pred = search_knn.predict(X_test)\n",
    "f1_score(y_true, y_pred)# ,average=None)"
   ]
  },
  {
   "cell_type": "code",
   "execution_count": null,
   "id": "8ed20bcf-38c4-4d67-97e2-05b793df53e9",
   "metadata": {
    "tags": []
   },
   "outputs": [],
   "source": [
    "pd.DataFrame(search_knn.predict(xx_test))"
   ]
  },
  {
   "cell_type": "code",
   "execution_count": null,
   "id": "a950b7ba-d8f1-44a6-9eb8-d6adc97ff321",
   "metadata": {},
   "outputs": [],
   "source": []
  },
  {
   "cell_type": "code",
   "execution_count": null,
   "id": "bfd4396e-a4a9-4f8a-8915-c1bb4670439e",
   "metadata": {},
   "outputs": [],
   "source": []
  },
  {
   "cell_type": "markdown",
   "id": "33f4b94f-9413-4309-b219-9acf6214ecb0",
   "metadata": {
    "jupyter": {
     "outputs_hidden": true
    },
    "tags": []
   },
   "source": [
    "## 3. sklearn.linear_model.LogisticRegression"
   ]
  },
  {
   "cell_type": "code",
   "execution_count": 48,
   "id": "7c86ca30-ef36-4eaf-ba47-095d7eb18f32",
   "metadata": {
    "tags": []
   },
   "outputs": [],
   "source": [
    "from sklearn.linear_model import LogisticRegression"
   ]
  },
  {
   "cell_type": "code",
   "execution_count": 49,
   "id": "0a50179b-2e8d-47dd-84ba-d36f97a17382",
   "metadata": {
    "tags": []
   },
   "outputs": [],
   "source": [
    "#ORIGINAL \n",
    "X_cat = X.select_dtypes(exclude=\"number\").copy()\n",
    "X_num = X.select_dtypes(include=\"number\").copy()\n",
    "\n",
    "\n",
    "\n",
    "numeric_pipe = make_pipeline(\n",
    "    SimpleImputer(strategy=\"mean\"),\n",
    "    MinMaxScaler())\n",
    "\n",
    "categoric_pipe = make_pipeline(\n",
    "    SimpleImputer(strategy=\"constant\", fill_value=\"N_A\"),\n",
    "    OneHotEncoder(handle_unknown='ignore', sparse_output=False)\n",
    ")\n",
    "\n",
    "\n",
    "\n",
    "preprocessor = ColumnTransformer(\n",
    "    transformers=[\n",
    "        (\"num_pipe\", numeric_pipe, X_num.columns),      #X_num\n",
    "        (\"cat_pipe\", categoric_pipe, X_cat.columns),    #X_cat\n",
    "    ]\n",
    ")"
   ]
  },
  {
   "cell_type": "code",
   "execution_count": 50,
   "id": "e0a8903c-83ef-4df2-af35-ea8b6a9bfd56",
   "metadata": {
    "tags": []
   },
   "outputs": [
    {
     "name": "stdout",
     "output_type": "stream",
     "text": [
      "Fitting 5 folds for each of 12 candidates, totalling 60 fits\n"
     ]
    },
    {
     "data": {
      "text/plain": [
       "{'LogisticRegression': 0.9460621400535564}"
      ]
     },
     "execution_count": 50,
     "metadata": {},
     "output_type": "execute_result"
    }
   ],
   "source": [
    "#ORIGINAL \n",
    "from sklearn.model_selection import GridSearchCV\n",
    "\n",
    "\n",
    "big_pipeline = make_pipeline(preprocessor,\n",
    "                              LogisticRegression())\n",
    "\n",
    "param_grid = {\n",
    "     \"columntransformer__num_pipe__simpleimputer__strategy\":[\"mean\", \"median\"],\n",
    "     \"columntransformer__num_pipe__minmaxscaler__clip\":[True, False],\n",
    "     \"logisticregression__random_state\":[0],\n",
    "     \"logisticregression__solver\":[\"liblinear\", \"saga\", \"lbfgs\"], #'lbfgs' doesn't work wirh StandardScaler\n",
    "     \"logisticregression__penalty\":[\"l2\"], #'l1' doesn't work with 'lbfgs' \n",
    "     \"logisticregression__tol\":[0.01]\n",
    "}\n",
    "\n",
    "search_lr = GridSearchCV(big_pipeline,\n",
    "                      param_grid,\n",
    "                      cv=5,\n",
    "                      verbose=1)\n",
    "\n",
    "search_lr.fit(X_train, y_train)\n",
    "\n",
    "scores = {\"LogisticRegression\" : search_lr.best_score_}\n",
    "scores"
   ]
  },
  {
   "cell_type": "code",
   "execution_count": 51,
   "id": "ca67eca9-7928-4be1-953c-db45b8fdcbd1",
   "metadata": {
    "tags": []
   },
   "outputs": [
    {
     "data": {
      "text/plain": [
       "{'columntransformer__num_pipe__minmaxscaler__clip': True,\n",
       " 'columntransformer__num_pipe__simpleimputer__strategy': 'mean',\n",
       " 'logisticregression__penalty': 'l2',\n",
       " 'logisticregression__random_state': 0,\n",
       " 'logisticregression__solver': 'lbfgs',\n",
       " 'logisticregression__tol': 0.01}"
      ]
     },
     "execution_count": 51,
     "metadata": {},
     "output_type": "execute_result"
    }
   ],
   "source": [
    "search_lr.best_params_"
   ]
  },
  {
   "cell_type": "markdown",
   "id": "ad190368-716c-4b65-92bc-014a4a69bbfe",
   "metadata": {},
   "source": [
    "Test accuracy"
   ]
  },
  {
   "cell_type": "code",
   "execution_count": 52,
   "id": "29d79a23-04cb-491b-a15a-22bfd45f725e",
   "metadata": {
    "tags": []
   },
   "outputs": [
    {
     "data": {
      "text/plain": [
       "0.9657534246575342"
      ]
     },
     "execution_count": 52,
     "metadata": {},
     "output_type": "execute_result"
    }
   ],
   "source": [
    "accuracy_score(search_lr.predict(X_test), y_test)\n",
    "#without any fit to this data"
   ]
  },
  {
   "cell_type": "markdown",
   "id": "0155acf6-2f34-4587-a2e0-91e14529530a",
   "metadata": {},
   "source": [
    "Plot it "
   ]
  },
  {
   "cell_type": "code",
   "execution_count": 53,
   "id": "60af661d-6d35-4e0b-aa2f-7bfae0eaf470",
   "metadata": {
    "tags": []
   },
   "outputs": [
    {
     "data": {
      "image/png": "[encoded data removed]",
      "text/plain": [
       "<Figure size 640x480 with 2 Axes>"
      ]
     },
     "metadata": {},
     "output_type": "display_data"
    }
   ],
   "source": [
    "#from sklearn.metrics import plot_confusion_matrix\n",
    "#plot_confusion_matrix(search, X_test, y_test, display_labels=['Not Survied', 'Survived']);\n",
    "\n",
    "from sklearn.metrics import ConfusionMatrixDisplay\n",
    "ConfusionMatrixDisplay.from_estimator(search_lr,\n",
    "                                      X_test,\n",
    "                                      y_test,\n",
    "                                      display_labels=['Cheap', 'Expensive']);"
   ]
  },
  {
   "cell_type": "code",
   "execution_count": 386,
   "id": "eec7f170-637c-421e-9dc2-729177b7fedc",
   "metadata": {},
   "outputs": [],
   "source": [
    "LogisticRegression = lr_df   # pd.DataFrame(search_lr.predict(xx_test))\n",
    "LogisticRegression.to_csv('LogisticRegression.csv', index=False)"
   ]
  },
  {
   "cell_type": "code",
   "execution_count": 381,
   "id": "bceac4a6-2d64-41be-ad80-25bcf02bf5b1",
   "metadata": {},
   "outputs": [
    {
     "data": {
      "text/html": [
       "<div>\n",
       "<style scoped>\n",
       "    .dataframe tbody tr th:only-of-type {\n",
       "        vertical-align: middle;\n",
       "    }\n",
       "\n",
       "    .dataframe tbody tr th {\n",
       "        vertical-align: top;\n",
       "    }\n",
       "\n",
       "    .dataframe thead th {\n",
       "        text-align: right;\n",
       "    }\n",
       "</style>\n",
       "<table border=\"1\" class=\"dataframe\">\n",
       "  <thead>\n",
       "    <tr style=\"text-align: right;\">\n",
       "      <th></th>\n",
       "      <th>Expensive</th>\n",
       "    </tr>\n",
       "  </thead>\n",
       "  <tbody>\n",
       "    <tr>\n",
       "      <th>0</th>\n",
       "      <td>0</td>\n",
       "    </tr>\n",
       "    <tr>\n",
       "      <th>1</th>\n",
       "      <td>0</td>\n",
       "    </tr>\n",
       "    <tr>\n",
       "      <th>2</th>\n",
       "      <td>0</td>\n",
       "    </tr>\n",
       "    <tr>\n",
       "      <th>3</th>\n",
       "      <td>0</td>\n",
       "    </tr>\n",
       "    <tr>\n",
       "      <th>4</th>\n",
       "      <td>0</td>\n",
       "    </tr>\n",
       "    <tr>\n",
       "      <th>...</th>\n",
       "      <td>...</td>\n",
       "    </tr>\n",
       "    <tr>\n",
       "      <th>1454</th>\n",
       "      <td>0</td>\n",
       "    </tr>\n",
       "    <tr>\n",
       "      <th>1455</th>\n",
       "      <td>0</td>\n",
       "    </tr>\n",
       "    <tr>\n",
       "      <th>1456</th>\n",
       "      <td>0</td>\n",
       "    </tr>\n",
       "    <tr>\n",
       "      <th>1457</th>\n",
       "      <td>0</td>\n",
       "    </tr>\n",
       "    <tr>\n",
       "      <th>1458</th>\n",
       "      <td>0</td>\n",
       "    </tr>\n",
       "  </tbody>\n",
       "</table>\n",
       "<p>1459 rows × 1 columns</p>\n",
       "</div>"
      ],
      "text/plain": [
       "      Expensive\n",
       "0             0\n",
       "1             0\n",
       "2             0\n",
       "3             0\n",
       "4             0\n",
       "...         ...\n",
       "1454          0\n",
       "1455          0\n",
       "1456          0\n",
       "1457          0\n",
       "1458          0\n",
       "\n",
       "[1459 rows x 1 columns]"
      ]
     },
     "execution_count": 381,
     "metadata": {},
     "output_type": "execute_result"
    }
   ],
   "source": [
    "lr_df = pd.DataFrame(search_lr.predict(xx_test))\n",
    "lr_df.rename(columns = {0:'Expensive'}, inplace=True)\n",
    "lr_df"
   ]
  },
  {
   "cell_type": "code",
   "execution_count": 54,
   "id": "d3dae2d2-5880-43a5-9c62-4a467b06ce4a",
   "metadata": {
    "tags": []
   },
   "outputs": [
    {
     "data": {
      "text/plain": [
       "0.9171597633136095"
      ]
     },
     "execution_count": 54,
     "metadata": {},
     "output_type": "execute_result"
    }
   ],
   "source": [
    "import numpy as np\n",
    "from sklearn.metrics import f1_score\n",
    "y_true = y_train\n",
    "y_pred = search_lr.predict(X_train)\n",
    "f1_score(y_true, y_pred)# ,average=None)"
   ]
  },
  {
   "cell_type": "code",
   "execution_count": 55,
   "id": "04e34cf4-afb1-4c83-acc4-2f1de24eb76f",
   "metadata": {
    "tags": []
   },
   "outputs": [
    {
     "data": {
      "text/plain": [
       "0.8684210526315789"
      ]
     },
     "execution_count": 55,
     "metadata": {},
     "output_type": "execute_result"
    }
   ],
   "source": [
    "import numpy as np\n",
    "from sklearn.metrics import f1_score\n",
    "y_true = y_test\n",
    "y_pred = search_lr.predict(X_test)\n",
    "f1_score(y_true, y_pred)# ,average=None)"
   ]
  },
  {
   "cell_type": "code",
   "execution_count": null,
   "id": "2d399f1e-df91-4ebc-98fe-ebd2cc5efc80",
   "metadata": {},
   "outputs": [],
   "source": []
  },
  {
   "cell_type": "code",
   "execution_count": null,
   "id": "cc24268d-b0e9-40b9-a7d4-11d97d2051b8",
   "metadata": {},
   "outputs": [],
   "source": []
  },
  {
   "cell_type": "code",
   "execution_count": null,
   "id": "bdec035e-476f-47a8-b42b-78e73eafd22c",
   "metadata": {},
   "outputs": [],
   "source": []
  },
  {
   "cell_type": "code",
   "execution_count": null,
   "id": "b2f8add8-f34d-4b19-b0bc-dbdd083edb12",
   "metadata": {},
   "outputs": [],
   "source": []
  },
  {
   "cell_type": "code",
   "execution_count": null,
   "id": "cc289043-c919-4817-868f-dda4c6fa3d33",
   "metadata": {},
   "outputs": [],
   "source": []
  },
  {
   "cell_type": "code",
   "execution_count": null,
   "id": "90450d82-05fc-4b58-ad53-15eeeb9d988a",
   "metadata": {},
   "outputs": [],
   "source": []
  },
  {
   "cell_type": "markdown",
   "id": "bd0686c5-6222-45bb-9863-710e39ad5985",
   "metadata": {
    "jupyter": {
     "outputs_hidden": true
    },
    "tags": []
   },
   "source": [
    "## 4. sklearn.ensemble.RandomForestClassifier"
   ]
  },
  {
   "cell_type": "code",
   "execution_count": 56,
   "id": "65331ca5-fd31-4113-bd3c-0271d82eac65",
   "metadata": {
    "tags": []
   },
   "outputs": [],
   "source": [
    "from sklearn.ensemble import RandomForestClassifier"
   ]
  },
  {
   "cell_type": "markdown",
   "id": "a6a67439-08bf-4d5e-a64e-c686e60eb416",
   "metadata": {},
   "source": [
    "Preprocessing data "
   ]
  },
  {
   "cell_type": "code",
   "execution_count": 57,
   "id": "047210f5-63c4-4fab-bfca-dd55863376e2",
   "metadata": {
    "tags": []
   },
   "outputs": [],
   "source": [
    "X_cat = X.select_dtypes(exclude=\"number\").copy()\n",
    "X_num = X.select_dtypes(include=\"number\").copy()\n",
    "\n",
    "\n",
    "\n",
    "numeric_pipe = make_pipeline(\n",
    "    SimpleImputer(strategy=\"mean\"),\n",
    "    MinMaxScaler())\n",
    "\n",
    "categoric_pipe = make_pipeline(\n",
    "    SimpleImputer(strategy=\"constant\", fill_value=\"N_A\"),\n",
    "    OneHotEncoder(handle_unknown='ignore', sparse_output=False)\n",
    ")\n",
    "\n",
    "\n",
    "\n",
    "preprocessor = ColumnTransformer(\n",
    "    transformers=[\n",
    "        (\"num_pipe\", numeric_pipe, X_num.columns),      #X_num\n",
    "        (\"cat_pipe\", categoric_pipe, X_cat.columns),    #X_cat\n",
    "    ]\n",
    ")"
   ]
  },
  {
   "cell_type": "code",
   "execution_count": 68,
   "id": "3c28f358-ec4d-40db-925d-cfe9f424dffd",
   "metadata": {
    "tags": []
   },
   "outputs": [
    {
     "name": "stdout",
     "output_type": "stream",
     "text": [
      "Fitting 5 folds for each of 48 candidates, totalling 240 fits\n"
     ]
    },
    {
     "data": {
      "text/plain": [
       "{'RandomForestClassifier': 0.9451964344668207}"
      ]
     },
     "execution_count": 68,
     "metadata": {},
     "output_type": "execute_result"
    }
   ],
   "source": [
    "from sklearn.model_selection import GridSearchCV\n",
    "\n",
    "#SCALER ????\n",
    "\n",
    "\n",
    "big_pipeline = make_pipeline(preprocessor,\n",
    "                              RandomForestClassifier())\n",
    "\n",
    "param_grid = {\n",
    "    \"columntransformer__num_pipe__simpleimputer__strategy\":[\"mean\", \"median\"],\n",
    "    \"columntransformer__num_pipe__minmaxscaler__clip\":[True, False],\n",
    "    \"randomforestclassifier__random_state\":[0],\n",
    "    \"randomforestclassifier__max_depth\":[6,9,1],\n",
    "    \"randomforestclassifier__criterion\":['gini', 'entropy'],#, 'log_loss'],\n",
    "    \"randomforestclassifier__max_features\":[\"sqrt\"],   #, \"log2\"]\n",
    "    #\"randomforestclassifier__max_samples\":[0.0, 1.0],\n",
    "    \"randomforestclassifier__class_weight\":[\"balanced_subsample\"],  #\"balanced_subsample\", \n",
    "    \"randomforestclassifier__bootstrap\":[True, False],\n",
    "    #\"randomforestclassifier__min_impurity_decrease\":[0],\n",
    "    #\"randomforestclassifier__n_estimators\":[1000]\n",
    "    #\"randomforestclassifier__oob_score\":[True, False]\n",
    "    \n",
    "}\n",
    "\n",
    "search_rfc = GridSearchCV(big_pipeline,\n",
    "                      param_grid,\n",
    "                      cv=5,\n",
    "                      verbose=1)\n",
    "\n",
    "search_rfc.fit(X_train, y_train)\n",
    "\n",
    "scores = {\"RandomForestClassifier\" : search_rfc.best_score_}\n",
    "scores"
   ]
  },
  {
   "cell_type": "code",
   "execution_count": 69,
   "id": "9c342467-4813-4bc4-a794-f717a77b1f35",
   "metadata": {
    "tags": []
   },
   "outputs": [
    {
     "data": {
      "text/plain": [
       "{'columntransformer__num_pipe__minmaxscaler__clip': True,\n",
       " 'columntransformer__num_pipe__simpleimputer__strategy': 'mean',\n",
       " 'randomforestclassifier__bootstrap': False,\n",
       " 'randomforestclassifier__class_weight': 'balanced_subsample',\n",
       " 'randomforestclassifier__criterion': 'entropy',\n",
       " 'randomforestclassifier__max_depth': 9,\n",
       " 'randomforestclassifier__max_features': 'sqrt',\n",
       " 'randomforestclassifier__random_state': 0}"
      ]
     },
     "execution_count": 69,
     "metadata": {},
     "output_type": "execute_result"
    }
   ],
   "source": [
    "#94,4\n",
    "\n",
    "#.945\n",
    "search_rfc.best_params_"
   ]
  },
  {
   "cell_type": "markdown",
   "id": "6c461539-a9cb-4d65-98a8-cba6e7e96d70",
   "metadata": {},
   "source": [
    "accuracy test"
   ]
  },
  {
   "cell_type": "code",
   "execution_count": 70,
   "id": "e7174f37-293a-4b22-ae9b-24b84e242b4c",
   "metadata": {
    "tags": []
   },
   "outputs": [
    {
     "data": {
      "text/plain": [
       "0.958904109589041"
      ]
     },
     "execution_count": 70,
     "metadata": {},
     "output_type": "execute_result"
    }
   ],
   "source": [
    "accuracy_score(search_rfc.predict(X_test), y_test)\n",
    "#without any fit to this data"
   ]
  },
  {
   "cell_type": "code",
   "execution_count": 71,
   "id": "637cf250-47cd-446f-9af1-6ac705887386",
   "metadata": {
    "tags": []
   },
   "outputs": [
    {
     "data": {
      "image/png": "[encoded data removed]",
      "text/plain": [
       "<Figure size 640x480 with 2 Axes>"
      ]
     },
     "metadata": {},
     "output_type": "display_data"
    }
   ],
   "source": [
    "#from sklearn.metrics import plot_confusion_matrix\n",
    "#plot_confusion_matrix(search, X_test, y_test, display_labels=['Not Survied', 'Survived']);\n",
    "\n",
    "from sklearn.metrics import ConfusionMatrixDisplay\n",
    "ConfusionMatrixDisplay.from_estimator(search_rfc,\n",
    "                                      X_test,\n",
    "                                      y_test,\n",
    "                                      display_labels=['Cheap', 'Expensive']);"
   ]
  },
  {
   "cell_type": "code",
   "execution_count": 74,
   "id": "964558d4-e582-4b57-acb9-0ae97a52c85c",
   "metadata": {
    "tags": []
   },
   "outputs": [
    {
     "data": {
      "text/html": [
       "<div>\n",
       "<style scoped>\n",
       "    .dataframe tbody tr th:only-of-type {\n",
       "        vertical-align: middle;\n",
       "    }\n",
       "\n",
       "    .dataframe tbody tr th {\n",
       "        vertical-align: top;\n",
       "    }\n",
       "\n",
       "    .dataframe thead th {\n",
       "        text-align: right;\n",
       "    }\n",
       "</style>\n",
       "<table border=\"1\" class=\"dataframe\">\n",
       "  <thead>\n",
       "    <tr style=\"text-align: right;\">\n",
       "      <th></th>\n",
       "      <th>Expensive</th>\n",
       "    </tr>\n",
       "  </thead>\n",
       "  <tbody>\n",
       "    <tr>\n",
       "      <th>0</th>\n",
       "      <td>0</td>\n",
       "    </tr>\n",
       "    <tr>\n",
       "      <th>1</th>\n",
       "      <td>0</td>\n",
       "    </tr>\n",
       "    <tr>\n",
       "      <th>2</th>\n",
       "      <td>0</td>\n",
       "    </tr>\n",
       "    <tr>\n",
       "      <th>3</th>\n",
       "      <td>0</td>\n",
       "    </tr>\n",
       "    <tr>\n",
       "      <th>4</th>\n",
       "      <td>0</td>\n",
       "    </tr>\n",
       "    <tr>\n",
       "      <th>...</th>\n",
       "      <td>...</td>\n",
       "    </tr>\n",
       "    <tr>\n",
       "      <th>1454</th>\n",
       "      <td>0</td>\n",
       "    </tr>\n",
       "    <tr>\n",
       "      <th>1455</th>\n",
       "      <td>0</td>\n",
       "    </tr>\n",
       "    <tr>\n",
       "      <th>1456</th>\n",
       "      <td>0</td>\n",
       "    </tr>\n",
       "    <tr>\n",
       "      <th>1457</th>\n",
       "      <td>0</td>\n",
       "    </tr>\n",
       "    <tr>\n",
       "      <th>1458</th>\n",
       "      <td>0</td>\n",
       "    </tr>\n",
       "  </tbody>\n",
       "</table>\n",
       "<p>1459 rows × 1 columns</p>\n",
       "</div>"
      ],
      "text/plain": [
       "      Expensive\n",
       "0             0\n",
       "1             0\n",
       "2             0\n",
       "3             0\n",
       "4             0\n",
       "...         ...\n",
       "1454          0\n",
       "1455          0\n",
       "1456          0\n",
       "1457          0\n",
       "1458          0\n",
       "\n",
       "[1459 rows x 1 columns]"
      ]
     },
     "execution_count": 74,
     "metadata": {},
     "output_type": "execute_result"
    }
   ],
   "source": [
    "rfc_df = pd.DataFrame(search_rfc.predict(xx_test))\n",
    "#rfc_df['Expensive'] = rfc_df[0]\n",
    "#rfc_df\n",
    "#rfc_df.drop(columns=\"Expensive\", inplace = True)\n",
    "rfc_df.rename(columns = {0:'Expensive'}, inplace=True)\n",
    "#rfc_11 = rfc_df['Expensive']\n",
    "#rfc_11\n",
    "rfc_df"
   ]
  },
  {
   "cell_type": "code",
   "execution_count": 75,
   "id": "542bb849-66ee-4b90-a8de-89cfef84758f",
   "metadata": {
    "tags": []
   },
   "outputs": [],
   "source": [
    "RandomForestClassifier_1 = rfc_df   #pd.DataFrame(search_rfc.predict(xx_test))\n",
    "RandomForestClassifier_1.to_csv('RandomForestClassifier.csv', index=False)"
   ]
  },
  {
   "cell_type": "code",
   "execution_count": 76,
   "id": "25922b06-2ccd-48cb-a879-fcb7118aaecc",
   "metadata": {
    "tags": []
   },
   "outputs": [
    {
     "data": {
      "text/plain": [
       "0.9749303621169916"
      ]
     },
     "execution_count": 76,
     "metadata": {},
     "output_type": "execute_result"
    }
   ],
   "source": [
    "import numpy as np\n",
    "from sklearn.metrics import f1_score\n",
    "y_true = y_train\n",
    "y_pred = search_rfc.predict(X_train)\n",
    "f1_score(y_true, y_pred)# ,average=None)"
   ]
  },
  {
   "cell_type": "code",
   "execution_count": 77,
   "id": "d43ebfff-22a6-4cb7-81f4-b03a9a5fc7dc",
   "metadata": {
    "tags": []
   },
   "outputs": [
    {
     "data": {
      "text/plain": [
       "0.8604651162790699"
      ]
     },
     "execution_count": 77,
     "metadata": {},
     "output_type": "execute_result"
    }
   ],
   "source": [
    "import numpy as np\n",
    "from sklearn.metrics import f1_score\n",
    "y_true = y_test\n",
    "y_pred = search_rfc.predict(X_test)\n",
    "f1_score(y_true, y_pred)# ,average=None)"
   ]
  },
  {
   "cell_type": "code",
   "execution_count": null,
   "id": "bafcf105-b3e5-424b-a381-01d5f23c81fa",
   "metadata": {},
   "outputs": [],
   "source": []
  },
  {
   "cell_type": "code",
   "execution_count": null,
   "id": "22682ecb-1b94-49c9-9d3e-af84845a47ba",
   "metadata": {},
   "outputs": [],
   "source": []
  },
  {
   "cell_type": "code",
   "execution_count": null,
   "id": "ed8e3c44-8a56-44b3-ba75-9da995057fc6",
   "metadata": {},
   "outputs": [],
   "source": []
  },
  {
   "cell_type": "code",
   "execution_count": null,
   "id": "04734731-a124-4b1b-a585-d659c6f9bc71",
   "metadata": {},
   "outputs": [],
   "source": [
    "TEST DATA "
   ]
  },
  {
   "cell_type": "code",
   "execution_count": 73,
   "id": "1512698f-c562-49fe-8846-d14d5dd39190",
   "metadata": {
    "tags": []
   },
   "outputs": [],
   "source": [
    "url = \"https://drive.google.com/file/d/1JX55ps4k-Qitl7f9ODRIgOa--MRcMsj6/view?usp=sharing\"\n",
    "path = 'https://drive.google.com/uc?export=download&id='+url.split('/')[-2]\n",
    "xx_test = pd.read_csv(path)"
   ]
  },
  {
   "cell_type": "code",
   "execution_count": 105,
   "id": "1c62ea24-28a6-4c9d-9fa2-2e107ab402b4",
   "metadata": {},
   "outputs": [
    {
     "data": {
      "text/plain": [
       "array([0, 0, 0, 0, 0, 0, 1, 0, 0, 0, 0, 0, 0, 0, 0, 0, 0, 1, 0, 0, 0, 0,\n",
       "       0, 0, 0, 0, 0, 0, 0, 0, 0, 0, 0, 0, 1, 0, 0, 0, 0, 0, 0, 0, 0, 0,\n",
       "       0, 0, 1, 0, 0, 0, 0, 0, 0, 0, 0, 0, 0, 0, 0, 1, 0, 0, 0, 0, 0, 0,\n",
       "       0, 0, 0, 0, 0, 0, 0, 1, 0, 0, 0, 0, 0, 0, 1, 0, 0, 0, 0, 0, 0, 0,\n",
       "       0, 1, 0, 0, 0, 0, 0, 0, 0, 0, 0, 0, 0, 1, 0, 0, 0, 0, 0, 1, 0, 1,\n",
       "       1, 0, 0, 1, 0, 0, 0, 1, 0, 0, 0, 0, 0, 0, 0, 0, 0, 0, 0, 1, 0, 1,\n",
       "       1, 0, 0, 0, 1, 0, 0, 0, 0, 1, 0, 0, 0, 0, 0, 0, 0, 0, 0, 0, 1, 0,\n",
       "       0, 0, 0, 0, 0, 0, 1, 0, 0, 0, 0, 0, 0, 0, 0, 0, 0, 0, 0, 0, 0, 1,\n",
       "       0, 0, 0, 0, 0, 0, 0, 0, 0, 0, 0, 0, 0, 0, 0, 0, 0, 0, 0, 0, 0, 0,\n",
       "       0, 0, 0, 1, 0, 1, 0, 0, 0, 1, 0, 0, 0, 1, 0, 0, 0, 0, 0, 0, 0, 0,\n",
       "       0, 0, 0, 0, 0, 0, 0, 0, 0, 0, 0, 0, 0, 0, 0, 0, 0, 0, 0, 0, 1, 0,\n",
       "       0, 0, 0, 0, 0, 1, 0, 0, 0, 0, 0, 0, 0, 0, 1, 0, 0, 0, 0, 0, 0, 0,\n",
       "       0, 0, 0, 0, 0, 0, 0, 0, 0, 0, 0, 0, 0, 0, 0, 0, 0, 0, 0, 0, 0, 0,\n",
       "       0, 0, 0, 0, 0, 0])"
      ]
     },
     "execution_count": 105,
     "metadata": {},
     "output_type": "execute_result"
    }
   ],
   "source": [
    "search.predict(X_test)"
   ]
  },
  {
   "cell_type": "code",
   "execution_count": 388,
   "id": "1ba81e4a-bc24-4415-839d-7ace61d61657",
   "metadata": {},
   "outputs": [
    {
     "data": {
      "text/html": [
       "<div>\n",
       "<style scoped>\n",
       "    .dataframe tbody tr th:only-of-type {\n",
       "        vertical-align: middle;\n",
       "    }\n",
       "\n",
       "    .dataframe tbody tr th {\n",
       "        vertical-align: top;\n",
       "    }\n",
       "\n",
       "    .dataframe thead th {\n",
       "        text-align: right;\n",
       "    }\n",
       "</style>\n",
       "<table border=\"1\" class=\"dataframe\">\n",
       "  <thead>\n",
       "    <tr style=\"text-align: right;\">\n",
       "      <th></th>\n",
       "      <th>Id</th>\n",
       "    </tr>\n",
       "  </thead>\n",
       "  <tbody>\n",
       "    <tr>\n",
       "      <th>0</th>\n",
       "      <td>1461</td>\n",
       "    </tr>\n",
       "    <tr>\n",
       "      <th>1</th>\n",
       "      <td>1462</td>\n",
       "    </tr>\n",
       "    <tr>\n",
       "      <th>2</th>\n",
       "      <td>1463</td>\n",
       "    </tr>\n",
       "    <tr>\n",
       "      <th>3</th>\n",
       "      <td>1464</td>\n",
       "    </tr>\n",
       "    <tr>\n",
       "      <th>4</th>\n",
       "      <td>1465</td>\n",
       "    </tr>\n",
       "    <tr>\n",
       "      <th>...</th>\n",
       "      <td>...</td>\n",
       "    </tr>\n",
       "    <tr>\n",
       "      <th>1454</th>\n",
       "      <td>2915</td>\n",
       "    </tr>\n",
       "    <tr>\n",
       "      <th>1455</th>\n",
       "      <td>2916</td>\n",
       "    </tr>\n",
       "    <tr>\n",
       "      <th>1456</th>\n",
       "      <td>2917</td>\n",
       "    </tr>\n",
       "    <tr>\n",
       "      <th>1457</th>\n",
       "      <td>2918</td>\n",
       "    </tr>\n",
       "    <tr>\n",
       "      <th>1458</th>\n",
       "      <td>2919</td>\n",
       "    </tr>\n",
       "  </tbody>\n",
       "</table>\n",
       "<p>1459 rows × 1 columns</p>\n",
       "</div>"
      ],
      "text/plain": [
       "        Id\n",
       "0     1461\n",
       "1     1462\n",
       "2     1463\n",
       "3     1464\n",
       "4     1465\n",
       "...    ...\n",
       "1454  2915\n",
       "1455  2916\n",
       "1456  2917\n",
       "1457  2918\n",
       "1458  2919\n",
       "\n",
       "[1459 rows x 1 columns]"
      ]
     },
     "execution_count": 388,
     "metadata": {},
     "output_type": "execute_result"
    }
   ],
   "source": [
    "url = \"https://drive.google.com/file/d/11GFjtfeUeSSmFByQ3fO0ZcC6LFwbn2ka/view?usp=sharing\"\n",
    "path = 'https://drive.google.com/uc?export=download&id='+url.split('/')[-2]\n",
    "ids = pd.read_csv(path)\n",
    "ids"
   ]
  },
  {
   "cell_type": "code",
   "execution_count": null,
   "id": "3923b6bf-7493-4fcd-8adf-dc0b6a35b7cf",
   "metadata": {},
   "outputs": [],
   "source": [
    "CONCAT data -\n",
    "https://www.datacamp.com/tutorial/joining-dataframes-pandas?utm_source=google&utm_medium=paid_search&utm_campaignid=19589720818&utm_adgroupid=143216588777&utm_device=c&utm_keyword=&utm_matchtype=&utm_network=g&utm_adpostion=&utm_creative=671350460558&utm_targetid=dsa-1947282172981&utm_loc_interest_ms=&utm_loc_physical_ms=9043202&utm_content=dsa~page~community-tuto&utm_campaign=230119_1-sea~dsa~tutorials_2-b2c_3-eu_4-prc_5-na_6-na_7-le_8-pdsh-go_9-na_10-na_11-na-sep23&gclid=CjwKCAjw6eWnBhAKEiwADpnw9mcsOkDqFTtDmUgOGfaIkjf64RpQBrrEzwG-JCsSpTRMY9_e0wwrFxoCp8UQAvD_BwE"
   ]
  },
  {
   "cell_type": "code",
   "execution_count": 496,
   "id": "e1e8c490-fd49-49ba-8b90-7bd2b2102b55",
   "metadata": {},
   "outputs": [
    {
     "data": {
      "text/html": [
       "<div>\n",
       "<style scoped>\n",
       "    .dataframe tbody tr th:only-of-type {\n",
       "        vertical-align: middle;\n",
       "    }\n",
       "\n",
       "    .dataframe tbody tr th {\n",
       "        vertical-align: top;\n",
       "    }\n",
       "\n",
       "    .dataframe thead th {\n",
       "        text-align: right;\n",
       "    }\n",
       "</style>\n",
       "<table border=\"1\" class=\"dataframe\">\n",
       "  <thead>\n",
       "    <tr style=\"text-align: right;\">\n",
       "      <th></th>\n",
       "      <th>Expensive</th>\n",
       "    </tr>\n",
       "  </thead>\n",
       "  <tbody>\n",
       "    <tr>\n",
       "      <th>0</th>\n",
       "      <td>0</td>\n",
       "    </tr>\n",
       "    <tr>\n",
       "      <th>1</th>\n",
       "      <td>0</td>\n",
       "    </tr>\n",
       "    <tr>\n",
       "      <th>2</th>\n",
       "      <td>0</td>\n",
       "    </tr>\n",
       "    <tr>\n",
       "      <th>3</th>\n",
       "      <td>0</td>\n",
       "    </tr>\n",
       "    <tr>\n",
       "      <th>4</th>\n",
       "      <td>0</td>\n",
       "    </tr>\n",
       "    <tr>\n",
       "      <th>...</th>\n",
       "      <td>...</td>\n",
       "    </tr>\n",
       "    <tr>\n",
       "      <th>1454</th>\n",
       "      <td>0</td>\n",
       "    </tr>\n",
       "    <tr>\n",
       "      <th>1455</th>\n",
       "      <td>0</td>\n",
       "    </tr>\n",
       "    <tr>\n",
       "      <th>1456</th>\n",
       "      <td>0</td>\n",
       "    </tr>\n",
       "    <tr>\n",
       "      <th>1457</th>\n",
       "      <td>0</td>\n",
       "    </tr>\n",
       "    <tr>\n",
       "      <th>1458</th>\n",
       "      <td>0</td>\n",
       "    </tr>\n",
       "  </tbody>\n",
       "</table>\n",
       "<p>1459 rows × 1 columns</p>\n",
       "</div>"
      ],
      "text/plain": [
       "      Expensive\n",
       "0             0\n",
       "1             0\n",
       "2             0\n",
       "3             0\n",
       "4             0\n",
       "...         ...\n",
       "1454          0\n",
       "1455          0\n",
       "1456          0\n",
       "1457          0\n",
       "1458          0\n",
       "\n",
       "[1459 rows x 1 columns]"
      ]
     },
     "execution_count": 496,
     "metadata": {},
     "output_type": "execute_result"
    }
   ],
   "source": [
    "RandomForestClassifier_1"
   ]
  },
  {
   "cell_type": "code",
   "execution_count": 497,
   "id": "06061199-7f49-403c-839b-538e46ff0bc3",
   "metadata": {
    "tags": []
   },
   "outputs": [],
   "source": [
    "rfc = pd.concat([ids, RandomForestClassifier_1], axis=1)#, ignore_index=True)\n",
    "rfc.to_csv('rfc.csv', index=False)"
   ]
  },
  {
   "cell_type": "code",
   "execution_count": 394,
   "id": "999bc308-e595-4359-b044-f5250b8c2bd3",
   "metadata": {},
   "outputs": [],
   "source": [
    "dtc = pd.concat([ids,DecisionTreeClassifier], axis=1)\n",
    "dtc.to_csv('dtc.csv', index=False)"
   ]
  },
  {
   "cell_type": "code",
   "execution_count": 393,
   "id": "8b092a06-f01f-4c37-9546-cde905a9ca0f",
   "metadata": {},
   "outputs": [],
   "source": [
    "#KNN = (KNeighborsClassifier[0], ids[0])\n",
    "KNN = pd.concat([ids, KNeighborsClassifier], axis=1)\n",
    "KNN.to_csv('KNN.csv', index=False)"
   ]
  },
  {
   "cell_type": "code",
   "execution_count": 392,
   "id": "56a0a8ad-197c-43c0-8593-bc6e0e9c45ca",
   "metadata": {},
   "outputs": [],
   "source": [
    "lr = pd.concat([ids, LogisticRegression], axis=1)\n",
    "lr.to_csv('lr.csv', index=False)"
   ]
  },
  {
   "cell_type": "code",
   "execution_count": null,
   "id": "de38a4bb-0a18-4c36-8d93-7c31ebc34fe2",
   "metadata": {},
   "outputs": [],
   "source": []
  },
  {
   "cell_type": "code",
   "execution_count": null,
   "id": "d008669e-005e-4241-949c-c7935f47ad9a",
   "metadata": {},
   "outputs": [],
   "source": []
  },
  {
   "cell_type": "code",
   "execution_count": null,
   "id": "70e03239-bfc8-49db-a9c6-719e98b0c02e",
   "metadata": {},
   "outputs": [],
   "source": []
  },
  {
   "cell_type": "code",
   "execution_count": null,
   "id": "f049b48a-e50f-4b1a-8e10-394e053a86d1",
   "metadata": {},
   "outputs": [],
   "source": []
  },
  {
   "cell_type": "code",
   "execution_count": null,
   "id": "f768e50c-2047-4e26-b004-a9b399a319ce",
   "metadata": {},
   "outputs": [],
   "source": []
  },
  {
   "cell_type": "code",
   "execution_count": null,
   "id": "8103085a-a2b6-4404-8aaf-c2210bee722c",
   "metadata": {},
   "outputs": [],
   "source": [
    "Support Vector Machines  +++  MODEL"
   ]
  },
  {
   "cell_type": "code",
   "execution_count": 395,
   "id": "b2f63270-ed48-4ec0-b4cb-eb6116df8a3c",
   "metadata": {},
   "outputs": [],
   "source": [
    "from sklearn.svm import SVC"
   ]
  },
  {
   "cell_type": "code",
   "execution_count": 417,
   "id": "0e7a4de8-f991-463c-87e7-f4a39f304658",
   "metadata": {},
   "outputs": [],
   "source": [
    "X_cat = X.select_dtypes(exclude=\"number\").copy()\n",
    "X_num = X.select_dtypes(include=\"number\").copy()\n",
    "\n",
    "\n",
    "\n",
    "numeric_pipe = make_pipeline(\n",
    "    SimpleImputer(strategy=\"mean\"),\n",
    "    MinMaxScaler())\n",
    "\n",
    "categoric_pipe = make_pipeline(\n",
    "    SimpleImputer(strategy=\"constant\", fill_value=\"N_A\"),\n",
    "    OneHotEncoder(handle_unknown='ignore', sparse_output=False)\n",
    ")\n",
    "\n",
    "\n",
    "\n",
    "preprocessor = ColumnTransformer(\n",
    "    transformers=[\n",
    "        (\"num_pipe\", numeric_pipe, X_num.columns),      #X_num\n",
    "        (\"cat_pipe\", categoric_pipe, X_cat.columns),    #X_cat\n",
    "    ]\n",
    ")"
   ]
  },
  {
   "cell_type": "code",
   "execution_count": 440,
   "id": "56bc3a9d-25b2-4969-a92a-2e162fbadd70",
   "metadata": {},
   "outputs": [
    {
     "name": "stdout",
     "output_type": "stream",
     "text": [
      "Fitting 5 folds for each of 24 candidates, totalling 120 fits\n"
     ]
    },
    {
     "data": {
      "text/plain": [
       "{'RandomForestClassifier': 0.9340816551116979}"
      ]
     },
     "execution_count": 440,
     "metadata": {},
     "output_type": "execute_result"
    }
   ],
   "source": [
    "from sklearn.model_selection import GridSearchCV\n",
    "\n",
    "\n",
    "big_pipeline = make_pipeline(preprocessor,\n",
    "                              SVC())\n",
    "\n",
    "param_grid = {\n",
    "    \"columntransformer__num_pipe__simpleimputer__strategy\":[\"mean\", \"median\"],\n",
    "    \"columntransformer__num_pipe__minmaxscaler__clip\":[True, False],\n",
    "    \"svc__kernel\":[\"linear\"],#, \"poly\", \"rbf\", \"sigmoid\"],  #, \"precomputed\" 'missconfugurate'\n",
    "    \"svc__degree\":[1, 3, 1],  #bydefault=3\n",
    "    \"svc__gamma\":[\"scale\", \"auto\"]\n",
    "    \n",
    "    \n",
    "    #\"columntransformer__num_pipe__standardscaler__with_mean\":[True, False],\n",
    "    #\"columntransformer__num_pipe__standardscaler__with_std\":[True, False],\n",
    "    #\"svc__decision_function_shape\": ['ovr'],\n",
    "    #\"svc__probability\":[False, True],\n",
    "    #\"svc__verbose\":[True, False],\n",
    "    #\"svc__shrinking\":[True, False],\n",
    "    #\"svc__random_state\":[0]\n",
    "   #\"svc__random_state\":[0]\n",
    "    \n",
    "   # 'C', 'break_ties', 'cache_size', 'class_weight', 'coef0', \n",
    "   # 'decision_function_shape', 'degree', 'gamma', 'kernel', 'max_iter', \n",
    "   # 'probability', 'random_state', 'shrinking', 'tol', 'verbose'].\n",
    "       \n",
    "#LinearSVC(C=1.0, class_weight=None, dual=True, fit_intercept=True,\n",
    " #         intercept_scaling=1, loss='squared_hinge', max_iter=1000,\n",
    "  #        multi_class='ovr', , random_state=None, tol=0.0001,\n",
    "   #       verbose=0)\n",
    "    \n",
    "}\n",
    "\n",
    "search_scv = GridSearchCV(big_pipeline,\n",
    "                      param_grid,\n",
    "                      cv=5,\n",
    "                      verbose=1)\n",
    "\n",
    "search_scv.fit(X_train, y_train)\n",
    "\n",
    "scores = {\"RandomForestClassifier\" : search_scv.best_score_}\n",
    "scores"
   ]
  },
  {
   "cell_type": "code",
   "execution_count": 429,
   "id": "907f8ae2-a08f-4013-bd7e-264a8a6152e9",
   "metadata": {},
   "outputs": [
    {
     "data": {
      "text/plain": [
       "{'columntransformer__num_pipe__minmaxscaler__clip': True,\n",
       " 'columntransformer__num_pipe__simpleimputer__strategy': 'mean',\n",
       " 'svc__degree': 1,\n",
       " 'svc__gamma': 'scale',\n",
       " 'svc__kernel': 'linear',\n",
       " 'svc__shrinking': True}"
      ]
     },
     "execution_count": 429,
     "metadata": {},
     "output_type": "execute_result"
    }
   ],
   "source": [
    "search_scv.best_params_"
   ]
  },
  {
   "cell_type": "code",
   "execution_count": 441,
   "id": "15a1262a-ac97-4e29-8f39-2c1fba9a9685",
   "metadata": {},
   "outputs": [
    {
     "data": {
      "text/plain": [
       "0.9315068493150684"
      ]
     },
     "execution_count": 441,
     "metadata": {},
     "output_type": "execute_result"
    }
   ],
   "source": [
    "accuracy_score(search_scv.predict(X_test), y_test)\n",
    "#without any fit to this data"
   ]
  },
  {
   "cell_type": "code",
   "execution_count": 442,
   "id": "f3186485-8515-4bcf-8a90-cf0e7c0bf9ec",
   "metadata": {},
   "outputs": [
    {
     "data": {
      "image/png": "[encoded data removed]",
      "text/plain": [
       "<Figure size 640x480 with 2 Axes>"
      ]
     },
     "metadata": {},
     "output_type": "display_data"
    }
   ],
   "source": [
    "#from sklearn.metrics import plot_confusion_matrix\n",
    "#plot_confusion_matrix(search, X_test, y_test, display_labels=['Not Survied', 'Survived']);\n",
    "\n",
    "from sklearn.metrics import ConfusionMatrixDisplay\n",
    "ConfusionMatrixDisplay.from_estimator(search_scv,\n",
    "                                      X_test,\n",
    "                                      y_test,\n",
    "                                      display_labels=['Cheap', 'Expensive']);"
   ]
  },
  {
   "cell_type": "code",
   "execution_count": 443,
   "id": "017936a7-5a52-4a54-826c-da1c6f572758",
   "metadata": {},
   "outputs": [
    {
     "data": {
      "text/plain": [
       "0.9452449567723343"
      ]
     },
     "execution_count": 443,
     "metadata": {},
     "output_type": "execute_result"
    }
   ],
   "source": [
    "import numpy as np\n",
    "from sklearn.metrics import f1_score\n",
    "y_true = y_train\n",
    "y_pred = search_scv.predict(X_train)\n",
    "f1_score(y_true, y_pred)# ,average=None)"
   ]
  },
  {
   "cell_type": "code",
   "execution_count": 444,
   "id": "66c66910-1ce3-49ac-a333-d9e27228e123",
   "metadata": {},
   "outputs": [
    {
     "data": {
      "text/plain": [
       "0.7674418604651163"
      ]
     },
     "execution_count": 444,
     "metadata": {},
     "output_type": "execute_result"
    }
   ],
   "source": [
    "import numpy as np\n",
    "from sklearn.metrics import f1_score\n",
    "y_true = y_test\n",
    "y_pred = search_scv.predict(X_test)\n",
    "f1_score(y_true, y_pred)# ,average=None)"
   ]
  }
 ],
 "metadata": {
  "kernelspec": {
   "display_name": "Python 3 (ipykernel)",
   "language": "python",
   "name": "python3"
  },
  "language_info": {
   "codemirror_mode": {
    "name": "ipython",
    "version": 3
   },
   "file_extension": ".py",
   "mimetype": "text/x-python",
   "name": "python",
   "nbconvert_exporter": "python",
   "pygments_lexer": "ipython3",
   "version": "3.9.17"
  }
 },
 "nbformat": 4,
 "nbformat_minor": 5
}
